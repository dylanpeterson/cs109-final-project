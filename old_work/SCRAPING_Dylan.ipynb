{
 "cells": [
  {
   "cell_type": "code",
   "execution_count": 2,
   "metadata": {
    "collapsed": false
   },
   "outputs": [],
   "source": [
    "from genda.formats.panVCF import VCF\n",
    "#from genda.formats.Snp_array import SNP_array\n",
    "from genda.formats.PED import PED"
   ]
  },
  {
   "cell_type": "code",
   "execution_count": 3,
   "metadata": {
    "collapsed": true
   },
   "outputs": [],
   "source": [
    "# Normal Imports\n",
    "%matplotlib inline\n",
    "import numpy as np\n",
    "import scipy as sp\n",
    "import matplotlib as mpl\n",
    "import matplotlib.cm as cm\n",
    "import matplotlib.pyplot as plt\n",
    "import pandas as pd\n",
    "pd.set_option('display.width', 500)\n",
    "pd.set_option('display.max_columns', 100)\n",
    "pd.set_option('display.notebook_repr_html', True)\n",
    "import seaborn as sns\n",
    "sns.set_style(\"whitegrid\")\n",
    "sns.set_context(\"poster\")\n",
    "\n",
    "# Additional Imports Needed\n",
    "from pyquery import PyQuery as pq\n",
    "import requests"
   ]
  },
  {
   "cell_type": "code",
   "execution_count": 162,
   "metadata": {
    "collapsed": false
   },
   "outputs": [
    {
     "name": "stdout",
     "output_type": "stream",
     "text": [
      "CPU times: user 40.4 s, sys: 19.3 s, total: 59.7 s\n",
      "Wall time: 2h 38min 27s\n"
     ]
    }
   ],
   "source": [
    "%%time\n",
    "# Query the online database for the requisite data\n",
    "basicinfo=requests.get(\"http://www.irgcis.irri.org:81/grc/TK.exe$Query?DataSource=IRG&GBUSER_TK_PASS1_ORICOUNTRY.STATUS_ACC-OP=%3D&GBUSER_TK_PASS1_ORICOUNTRY.STATUS_ACC=&GBUSER_TK_PASS1_ORICOUNTRY.ACCNO-OP=%3E%3D&GBUSER_TK_PASS1_ORICOUNTRY.ACCNO=&GBUSER_TK_PASS1_ORICOUNTRY.ACCNO-OP=%3C%3D&GBUSER_TK_PASS1_ORICOUNTRY.ACCNO=&GBUSER_TK_PASS1_ORICOUNTRY.SPECIES_REID-OP=%3D&GBUSER_TK_PASS1_ORICOUNTRY.SPECIES_REID=&GBUSER_TK_PASS1_ORICOUNTRY.ALL_ACCNO_NAME-OP=ctn&GBUSER_TK_PASS1_ORICOUNTRY.ALL_ACCNO_NAME=&GBUSER_TK_PASS1_ORICOUNTRY.ORI_COUNTRY-OP=%3D&GBUSER_TK_PASS1_ORICOUNTRY.ORI_COUNTRY=&GBUSER_TK_PASS1_SSCOUNTRY.SS_COUNTRY-OP=%3D&GBUSER_TK_PASS1_SSCOUNTRY.SS_COUNTRY=&GBUSER_TK_PASS1_ORICOUNTRY.CULT_TYPE-OP=%3D&GBUSER_TK_PASS1_ORICOUNTRY.CULT_TYPE=&GBUSER_TK_MORPH1_2.MAT-OP=%3E%3D&GBUSER_TK_MORPH1_2.MAT=&GBUSER_TK_MORPH1_2.MAT-OP=%3C%3D&GBUSER_TK_MORPH1_2.MAT=&GBUSER_TK_MORPH1_2.GRLT-OP=%3E%3D&GBUSER_TK_MORPH1_2.GRLT=&GBUSER_TK_MORPH1_2.GRLT-OP=%3C%3D&GBUSER_TK_MORPH1_2.GRLT=&GBUSER_TK_MORPH1_2.GRWD-OP=%3E%3D&GBUSER_TK_MORPH1_2.GRWD=&GBUSER_TK_MORPH1_2.GRWD-OP=%3C%3D&GBUSER_TK_MORPH1_2.GRWD=&GBUSER_TK_MORPH1_2.VG-OP=%3D&GBUSER_TK_MORPH1_2.VG=&GBUSER_TK_MORPH1_2.ENDO-OP=%3D&GBUSER_TK_MORPH1_2.ENDO=&GBUSER_TK_MORPH1_2.SCCO_REV-OP=%3D&GBUSER_TK_MORPH1_2.SCCO_REV=&GBUSER_TK_EVAL.BL_DESCRIPTION-OP=ctn&GBUSER_TK_EVAL.BL_DESCRIPTION=&GBUSER_TK_EVAL.BB_DESCRIPTION-OP=ctn&GBUSER_TK_EVAL.BB_DESCRIPTION=&GBUSER_TK_EVAL.SHB_DESCRIPTION-OP=ctn&GBUSER_TK_EVAL.SHB_DESCRIPTION=&Output=%2FGRC%2FAccessionID.htm&Limit=-1\")\n",
    "allinfo=requests.get(\"http://www.irgcis.irri.org:81/grc/TK.exe$Query?DataSource=IRG&GBUSER_TK_PASS1_ORICOUNTRY.STATUS_ACC-OP=%3D&GBUSER_TK_PASS1_ORICOUNTRY.STATUS_ACC=&GBUSER_TK_PASS1_ORICOUNTRY.ACCNO-OP=%3E%3D&GBUSER_TK_PASS1_ORICOUNTRY.ACCNO=&GBUSER_TK_PASS1_ORICOUNTRY.ACCNO-OP=%3C%3D&GBUSER_TK_PASS1_ORICOUNTRY.ACCNO=&GBUSER_TK_PASS1_ORICOUNTRY.SPECIES_REID-OP=%3D&GBUSER_TK_PASS1_ORICOUNTRY.SPECIES_REID=&GBUSER_TK_PASS1_ORICOUNTRY.ALL_ACCNO_NAME-OP=ctn&GBUSER_TK_PASS1_ORICOUNTRY.ALL_ACCNO_NAME=&GBUSER_TK_PASS1_ORICOUNTRY.ORI_COUNTRY-OP=%3D&GBUSER_TK_PASS1_ORICOUNTRY.ORI_COUNTRY=&GBUSER_TK_PASS1_SSCOUNTRY.SS_COUNTRY-OP=%3D&GBUSER_TK_PASS1_SSCOUNTRY.SS_COUNTRY=&GBUSER_TK_PASS1_ORICOUNTRY.CULT_TYPE-OP=%3D&GBUSER_TK_PASS1_ORICOUNTRY.CULT_TYPE=&GBUSER_TK_MORPH1_2.MAT-OP=%3E%3D&GBUSER_TK_MORPH1_2.MAT=&GBUSER_TK_MORPH1_2.MAT-OP=%3C%3D&GBUSER_TK_MORPH1_2.MAT=&GBUSER_TK_MORPH1_2.GRLT-OP=%3E%3D&GBUSER_TK_MORPH1_2.GRLT=&GBUSER_TK_MORPH1_2.GRLT-OP=%3C%3D&GBUSER_TK_MORPH1_2.GRLT=&GBUSER_TK_MORPH1_2.GRWD-OP=%3E%3D&GBUSER_TK_MORPH1_2.GRWD=&GBUSER_TK_MORPH1_2.GRWD-OP=%3C%3D&GBUSER_TK_MORPH1_2.GRWD=&GBUSER_TK_MORPH1_2.VG-OP=%3D&GBUSER_TK_MORPH1_2.VG=&GBUSER_TK_MORPH1_2.ENDO-OP=%3D&GBUSER_TK_MORPH1_2.ENDO=&GBUSER_TK_MORPH1_2.SCCO_REV-OP=%3D&GBUSER_TK_MORPH1_2.SCCO_REV=&GBUSER_TK_EVAL.BL_DESCRIPTION-OP=ctn&GBUSER_TK_EVAL.BL_DESCRIPTION=&GBUSER_TK_EVAL.BB_DESCRIPTION-OP=ctn&GBUSER_TK_EVAL.BB_DESCRIPTION=&GBUSER_TK_EVAL.SHB_DESCRIPTION-OP=ctn&GBUSER_TK_EVAL.SHB_DESCRIPTION=&Output=%2FGRC%2FDataOnSearchForm.htm&Limit=-1\")\n",
    "locationinfo=requests.get(\"http://www.irgcis.irri.org:81/grc/TK.exe$Query?DataSource=IRG&GBUSER_TK_PASS1_ORICOUNTRY.STATUS_ACC-OP=%3D&GBUSER_TK_PASS1_ORICOUNTRY.STATUS_ACC=&GBUSER_TK_PASS1_ORICOUNTRY.ACCNO-OP=%3E%3D&GBUSER_TK_PASS1_ORICOUNTRY.ACCNO=&GBUSER_TK_PASS1_ORICOUNTRY.ACCNO-OP=%3C%3D&GBUSER_TK_PASS1_ORICOUNTRY.ACCNO=&GBUSER_TK_PASS1_ORICOUNTRY.SPECIES_REID-OP=%3D&GBUSER_TK_PASS1_ORICOUNTRY.SPECIES_REID=&GBUSER_TK_PASS1_ORICOUNTRY.ALL_ACCNO_NAME-OP=ctn&GBUSER_TK_PASS1_ORICOUNTRY.ALL_ACCNO_NAME=&GBUSER_TK_PASS1_ORICOUNTRY.ORI_COUNTRY-OP=%3D&GBUSER_TK_PASS1_ORICOUNTRY.ORI_COUNTRY=&GBUSER_TK_PASS1_SSCOUNTRY.SS_COUNTRY-OP=%3D&GBUSER_TK_PASS1_SSCOUNTRY.SS_COUNTRY=&GBUSER_TK_PASS1_ORICOUNTRY.CULT_TYPE-OP=%3D&GBUSER_TK_PASS1_ORICOUNTRY.CULT_TYPE=&GBUSER_TK_MORPH1_2.MAT-OP=%3E%3D&GBUSER_TK_MORPH1_2.MAT=&GBUSER_TK_MORPH1_2.MAT-OP=%3C%3D&GBUSER_TK_MORPH1_2.MAT=&GBUSER_TK_MORPH1_2.GRLT-OP=%3E%3D&GBUSER_TK_MORPH1_2.GRLT=&GBUSER_TK_MORPH1_2.GRLT-OP=%3C%3D&GBUSER_TK_MORPH1_2.GRLT=&GBUSER_TK_MORPH1_2.GRWD-OP=%3E%3D&GBUSER_TK_MORPH1_2.GRWD=&GBUSER_TK_MORPH1_2.GRWD-OP=%3C%3D&GBUSER_TK_MORPH1_2.GRWD=&GBUSER_TK_MORPH1_2.VG-OP=%3D&GBUSER_TK_MORPH1_2.VG=&GBUSER_TK_MORPH1_2.ENDO-OP=%3D&GBUSER_TK_MORPH1_2.ENDO=&GBUSER_TK_MORPH1_2.SCCO_REV-OP=%3D&GBUSER_TK_MORPH1_2.SCCO_REV=&GBUSER_TK_EVAL.BL_DESCRIPTION-OP=ctn&GBUSER_TK_EVAL.BL_DESCRIPTION=&GBUSER_TK_EVAL.BB_DESCRIPTION-OP=ctn&GBUSER_TK_EVAL.BB_DESCRIPTION=&GBUSER_TK_EVAL.SHB_DESCRIPTION-OP=ctn&GBUSER_TK_EVAL.SHB_DESCRIPTION=&Output=%2FGRC%2FPassCollectLoc.htm&Limit=-1\")\n",
    "morphoveginfo=requests.get(\"http://www.irgcis.irri.org:81/grc/TK.exe$Query?DataSource=IRG&GBUSER_TK_PASS1_ORICOUNTRY.STATUS_ACC-OP=%3D&GBUSER_TK_PASS1_ORICOUNTRY.STATUS_ACC=&GBUSER_TK_PASS1_ORICOUNTRY.ACCNO-OP=%3E%3D&GBUSER_TK_PASS1_ORICOUNTRY.ACCNO=&GBUSER_TK_PASS1_ORICOUNTRY.ACCNO-OP=%3C%3D&GBUSER_TK_PASS1_ORICOUNTRY.ACCNO=&GBUSER_TK_PASS1_ORICOUNTRY.SPECIES_REID-OP=%3D&GBUSER_TK_PASS1_ORICOUNTRY.SPECIES_REID=&GBUSER_TK_PASS1_ORICOUNTRY.ALL_ACCNO_NAME-OP=ctn&GBUSER_TK_PASS1_ORICOUNTRY.ALL_ACCNO_NAME=&GBUSER_TK_PASS1_ORICOUNTRY.ORI_COUNTRY-OP=%3D&GBUSER_TK_PASS1_ORICOUNTRY.ORI_COUNTRY=&GBUSER_TK_PASS1_SSCOUNTRY.SS_COUNTRY-OP=%3D&GBUSER_TK_PASS1_SSCOUNTRY.SS_COUNTRY=&GBUSER_TK_PASS1_ORICOUNTRY.CULT_TYPE-OP=%3D&GBUSER_TK_PASS1_ORICOUNTRY.CULT_TYPE=&GBUSER_TK_MORPH1_2.MAT-OP=%3E%3D&GBUSER_TK_MORPH1_2.MAT=&GBUSER_TK_MORPH1_2.MAT-OP=%3C%3D&GBUSER_TK_MORPH1_2.MAT=&GBUSER_TK_MORPH1_2.GRLT-OP=%3E%3D&GBUSER_TK_MORPH1_2.GRLT=&GBUSER_TK_MORPH1_2.GRLT-OP=%3C%3D&GBUSER_TK_MORPH1_2.GRLT=&GBUSER_TK_MORPH1_2.GRWD-OP=%3E%3D&GBUSER_TK_MORPH1_2.GRWD=&GBUSER_TK_MORPH1_2.GRWD-OP=%3C%3D&GBUSER_TK_MORPH1_2.GRWD=&GBUSER_TK_MORPH1_2.VG-OP=%3D&GBUSER_TK_MORPH1_2.VG=&GBUSER_TK_MORPH1_2.ENDO-OP=%3D&GBUSER_TK_MORPH1_2.ENDO=&GBUSER_TK_MORPH1_2.SCCO_REV-OP=%3D&GBUSER_TK_MORPH1_2.SCCO_REV=&GBUSER_TK_EVAL.BL_DESCRIPTION-OP=ctn&GBUSER_TK_EVAL.BL_DESCRIPTION=&GBUSER_TK_EVAL.BB_DESCRIPTION-OP=ctn&GBUSER_TK_EVAL.BB_DESCRIPTION=&GBUSER_TK_EVAL.SHB_DESCRIPTION-OP=ctn&GBUSER_TK_EVAL.SHB_DESCRIPTION=&Output=%2FGRC%2FMorphVegAllSpp.htm&Limit=-1\")\n",
    "morphoreproinfo=requests.get(\"http://www.irgcis.irri.org:81/grc/TK.exe$Query?DataSource=IRG&GBUSER_TK_PASS1_ORICOUNTRY.STATUS_ACC-OP=%3D&GBUSER_TK_PASS1_ORICOUNTRY.STATUS_ACC=&GBUSER_TK_PASS1_ORICOUNTRY.ACCNO-OP=%3E%3D&GBUSER_TK_PASS1_ORICOUNTRY.ACCNO=&GBUSER_TK_PASS1_ORICOUNTRY.ACCNO-OP=%3C%3D&GBUSER_TK_PASS1_ORICOUNTRY.ACCNO=&GBUSER_TK_PASS1_ORICOUNTRY.SPECIES_REID-OP=%3D&GBUSER_TK_PASS1_ORICOUNTRY.SPECIES_REID=&GBUSER_TK_PASS1_ORICOUNTRY.ALL_ACCNO_NAME-OP=ctn&GBUSER_TK_PASS1_ORICOUNTRY.ALL_ACCNO_NAME=&GBUSER_TK_PASS1_ORICOUNTRY.ORI_COUNTRY-OP=%3D&GBUSER_TK_PASS1_ORICOUNTRY.ORI_COUNTRY=&GBUSER_TK_PASS1_SSCOUNTRY.SS_COUNTRY-OP=%3D&GBUSER_TK_PASS1_SSCOUNTRY.SS_COUNTRY=&GBUSER_TK_PASS1_ORICOUNTRY.CULT_TYPE-OP=%3D&GBUSER_TK_PASS1_ORICOUNTRY.CULT_TYPE=&GBUSER_TK_MORPH1_2.MAT-OP=%3E%3D&GBUSER_TK_MORPH1_2.MAT=&GBUSER_TK_MORPH1_2.MAT-OP=%3C%3D&GBUSER_TK_MORPH1_2.MAT=&GBUSER_TK_MORPH1_2.GRLT-OP=%3E%3D&GBUSER_TK_MORPH1_2.GRLT=&GBUSER_TK_MORPH1_2.GRLT-OP=%3C%3D&GBUSER_TK_MORPH1_2.GRLT=&GBUSER_TK_MORPH1_2.GRWD-OP=%3E%3D&GBUSER_TK_MORPH1_2.GRWD=&GBUSER_TK_MORPH1_2.GRWD-OP=%3C%3D&GBUSER_TK_MORPH1_2.GRWD=&GBUSER_TK_MORPH1_2.VG-OP=%3D&GBUSER_TK_MORPH1_2.VG=&GBUSER_TK_MORPH1_2.ENDO-OP=%3D&GBUSER_TK_MORPH1_2.ENDO=&GBUSER_TK_MORPH1_2.SCCO_REV-OP=%3D&GBUSER_TK_MORPH1_2.SCCO_REV=&GBUSER_TK_EVAL.BL_DESCRIPTION-OP=ctn&GBUSER_TK_EVAL.BL_DESCRIPTION=&GBUSER_TK_EVAL.BB_DESCRIPTION-OP=ctn&GBUSER_TK_EVAL.BB_DESCRIPTION=&GBUSER_TK_EVAL.SHB_DESCRIPTION-OP=ctn&GBUSER_TK_EVAL.SHB_DESCRIPTION=&Output=%2FGRC%2FMorpReproAllSpp.htm&Limit=-1\")\n",
    "morphoharvestinfo=requests.get(\"http://www.irgcis.irri.org:81/grc/TK.exe$Query?DataSource=IRG&GBUSER_TK_PASS1_ORICOUNTRY.STATUS_ACC-OP=%3D&GBUSER_TK_PASS1_ORICOUNTRY.STATUS_ACC=&GBUSER_TK_PASS1_ORICOUNTRY.ACCNO-OP=%3E%3D&GBUSER_TK_PASS1_ORICOUNTRY.ACCNO=&GBUSER_TK_PASS1_ORICOUNTRY.ACCNO-OP=%3C%3D&GBUSER_TK_PASS1_ORICOUNTRY.ACCNO=&GBUSER_TK_PASS1_ORICOUNTRY.SPECIES_REID-OP=%3D&GBUSER_TK_PASS1_ORICOUNTRY.SPECIES_REID=&GBUSER_TK_PASS1_ORICOUNTRY.ALL_ACCNO_NAME-OP=ctn&GBUSER_TK_PASS1_ORICOUNTRY.ALL_ACCNO_NAME=&GBUSER_TK_PASS1_ORICOUNTRY.ORI_COUNTRY-OP=%3D&GBUSER_TK_PASS1_ORICOUNTRY.ORI_COUNTRY=&GBUSER_TK_PASS1_SSCOUNTRY.SS_COUNTRY-OP=%3D&GBUSER_TK_PASS1_SSCOUNTRY.SS_COUNTRY=&GBUSER_TK_PASS1_ORICOUNTRY.CULT_TYPE-OP=%3D&GBUSER_TK_PASS1_ORICOUNTRY.CULT_TYPE=&GBUSER_TK_MORPH1_2.MAT-OP=%3E%3D&GBUSER_TK_MORPH1_2.MAT=&GBUSER_TK_MORPH1_2.MAT-OP=%3C%3D&GBUSER_TK_MORPH1_2.MAT=&GBUSER_TK_MORPH1_2.GRLT-OP=%3E%3D&GBUSER_TK_MORPH1_2.GRLT=&GBUSER_TK_MORPH1_2.GRLT-OP=%3C%3D&GBUSER_TK_MORPH1_2.GRLT=&GBUSER_TK_MORPH1_2.GRWD-OP=%3E%3D&GBUSER_TK_MORPH1_2.GRWD=&GBUSER_TK_MORPH1_2.GRWD-OP=%3C%3D&GBUSER_TK_MORPH1_2.GRWD=&GBUSER_TK_MORPH1_2.VG-OP=%3D&GBUSER_TK_MORPH1_2.VG=&GBUSER_TK_MORPH1_2.ENDO-OP=%3D&GBUSER_TK_MORPH1_2.ENDO=&GBUSER_TK_MORPH1_2.SCCO_REV-OP=%3D&GBUSER_TK_MORPH1_2.SCCO_REV=&GBUSER_TK_EVAL.BL_DESCRIPTION-OP=ctn&GBUSER_TK_EVAL.BL_DESCRIPTION=&GBUSER_TK_EVAL.BB_DESCRIPTION-OP=ctn&GBUSER_TK_EVAL.BB_DESCRIPTION=&GBUSER_TK_EVAL.SHB_DESCRIPTION-OP=ctn&GBUSER_TK_EVAL.SHB_DESCRIPTION=&Output=%2FGRC%2FMorphHarvPostAllSpp.htm&Limit=-1\")\n",
    "diseasereactioninfo=requests.get(\"http://www.irgcis.irri.org:81/grc/TK.exe$Query?DataSource=IRG&GBUSER_TK_PASS1_ORICOUNTRY.STATUS_ACC-OP=%3D&GBUSER_TK_PASS1_ORICOUNTRY.STATUS_ACC=&GBUSER_TK_PASS1_ORICOUNTRY.ACCNO-OP=%3E%3D&GBUSER_TK_PASS1_ORICOUNTRY.ACCNO=&GBUSER_TK_PASS1_ORICOUNTRY.ACCNO-OP=%3C%3D&GBUSER_TK_PASS1_ORICOUNTRY.ACCNO=&GBUSER_TK_PASS1_ORICOUNTRY.SPECIES_REID-OP=%3D&GBUSER_TK_PASS1_ORICOUNTRY.SPECIES_REID=&GBUSER_TK_PASS1_ORICOUNTRY.ALL_ACCNO_NAME-OP=ctn&GBUSER_TK_PASS1_ORICOUNTRY.ALL_ACCNO_NAME=&GBUSER_TK_PASS1_ORICOUNTRY.ORI_COUNTRY-OP=%3D&GBUSER_TK_PASS1_ORICOUNTRY.ORI_COUNTRY=&GBUSER_TK_PASS1_SSCOUNTRY.SS_COUNTRY-OP=%3D&GBUSER_TK_PASS1_SSCOUNTRY.SS_COUNTRY=&GBUSER_TK_PASS1_ORICOUNTRY.CULT_TYPE-OP=%3D&GBUSER_TK_PASS1_ORICOUNTRY.CULT_TYPE=&GBUSER_TK_MORPH1_2.MAT-OP=%3E%3D&GBUSER_TK_MORPH1_2.MAT=&GBUSER_TK_MORPH1_2.MAT-OP=%3C%3D&GBUSER_TK_MORPH1_2.MAT=&GBUSER_TK_MORPH1_2.GRLT-OP=%3E%3D&GBUSER_TK_MORPH1_2.GRLT=&GBUSER_TK_MORPH1_2.GRLT-OP=%3C%3D&GBUSER_TK_MORPH1_2.GRLT=&GBUSER_TK_MORPH1_2.GRWD-OP=%3E%3D&GBUSER_TK_MORPH1_2.GRWD=&GBUSER_TK_MORPH1_2.GRWD-OP=%3C%3D&GBUSER_TK_MORPH1_2.GRWD=&GBUSER_TK_MORPH1_2.VG-OP=%3D&GBUSER_TK_MORPH1_2.VG=&GBUSER_TK_MORPH1_2.ENDO-OP=%3D&GBUSER_TK_MORPH1_2.ENDO=&GBUSER_TK_MORPH1_2.SCCO_REV-OP=%3D&GBUSER_TK_MORPH1_2.SCCO_REV=&GBUSER_TK_EVAL.BL_DESCRIPTION-OP=ctn&GBUSER_TK_EVAL.BL_DESCRIPTION=&GBUSER_TK_EVAL.BB_DESCRIPTION-OP=ctn&GBUSER_TK_EVAL.BB_DESCRIPTION=&GBUSER_TK_EVAL.SHB_DESCRIPTION-OP=ctn&GBUSER_TK_EVAL.SHB_DESCRIPTION=&Output=%2FGRC%2FDisease_resist.htm&Limit=-1\")\n",
    "envreactioninfo=requests.get(\"http://www.irgcis.irri.org:81/grc/TK.exe$Query?DataSource=IRG&GBUSER_TK_PASS1_ORICOUNTRY.STATUS_ACC-OP=%3D&GBUSER_TK_PASS1_ORICOUNTRY.STATUS_ACC=&GBUSER_TK_PASS1_ORICOUNTRY.ACCNO-OP=%3E%3D&GBUSER_TK_PASS1_ORICOUNTRY.ACCNO=&GBUSER_TK_PASS1_ORICOUNTRY.ACCNO-OP=%3C%3D&GBUSER_TK_PASS1_ORICOUNTRY.ACCNO=&GBUSER_TK_PASS1_ORICOUNTRY.SPECIES_REID-OP=%3D&GBUSER_TK_PASS1_ORICOUNTRY.SPECIES_REID=&GBUSER_TK_PASS1_ORICOUNTRY.ALL_ACCNO_NAME-OP=ctn&GBUSER_TK_PASS1_ORICOUNTRY.ALL_ACCNO_NAME=&GBUSER_TK_PASS1_ORICOUNTRY.ORI_COUNTRY-OP=%3D&GBUSER_TK_PASS1_ORICOUNTRY.ORI_COUNTRY=&GBUSER_TK_PASS1_SSCOUNTRY.SS_COUNTRY-OP=%3D&GBUSER_TK_PASS1_SSCOUNTRY.SS_COUNTRY=&GBUSER_TK_PASS1_ORICOUNTRY.CULT_TYPE-OP=%3D&GBUSER_TK_PASS1_ORICOUNTRY.CULT_TYPE=&GBUSER_TK_MORPH1_2.MAT-OP=%3E%3D&GBUSER_TK_MORPH1_2.MAT=&GBUSER_TK_MORPH1_2.MAT-OP=%3C%3D&GBUSER_TK_MORPH1_2.MAT=&GBUSER_TK_MORPH1_2.GRLT-OP=%3E%3D&GBUSER_TK_MORPH1_2.GRLT=&GBUSER_TK_MORPH1_2.GRLT-OP=%3C%3D&GBUSER_TK_MORPH1_2.GRLT=&GBUSER_TK_MORPH1_2.GRWD-OP=%3E%3D&GBUSER_TK_MORPH1_2.GRWD=&GBUSER_TK_MORPH1_2.GRWD-OP=%3C%3D&GBUSER_TK_MORPH1_2.GRWD=&GBUSER_TK_MORPH1_2.VG-OP=%3D&GBUSER_TK_MORPH1_2.VG=&GBUSER_TK_MORPH1_2.ENDO-OP=%3D&GBUSER_TK_MORPH1_2.ENDO=&GBUSER_TK_MORPH1_2.SCCO_REV-OP=%3D&GBUSER_TK_MORPH1_2.SCCO_REV=&GBUSER_TK_EVAL.BL_DESCRIPTION-OP=ctn&GBUSER_TK_EVAL.BL_DESCRIPTION=&GBUSER_TK_EVAL.BB_DESCRIPTION-OP=ctn&GBUSER_TK_EVAL.BB_DESCRIPTION=&GBUSER_TK_EVAL.SHB_DESCRIPTION-OP=ctn&GBUSER_TK_EVAL.SHB_DESCRIPTION=&Output=%2FGRC%2FPhysiochem.htm&Limit=-1\")"
   ]
  },
  {
   "cell_type": "code",
   "execution_count": 665,
   "metadata": {
    "collapsed": false
   },
   "outputs": [],
   "source": [
    "# %%time\n",
    "# # SMALLER DATA (25 varieties vs ~10^5) FOR FASTER CALL / ITERATION TIME\n",
    "# # Query the online database for the requisite data\n",
    "# basicinfo25=requests.get(\"http://www.irgcis.irri.org:81/grc/TK.exe$Query?DataSource=IRG&GBUSER_TK_PASS1_ORICOUNTRY.STATUS_ACC-OP=%3D&GBUSER_TK_PASS1_ORICOUNTRY.STATUS_ACC=&GBUSER_TK_PASS1_ORICOUNTRY.ACCNO-OP=%3E%3D&GBUSER_TK_PASS1_ORICOUNTRY.ACCNO=&GBUSER_TK_PASS1_ORICOUNTRY.ACCNO-OP=%3C%3D&GBUSER_TK_PASS1_ORICOUNTRY.ACCNO=&GBUSER_TK_PASS1_ORICOUNTRY.SPECIES_REID-OP=%3D&GBUSER_TK_PASS1_ORICOUNTRY.SPECIES_REID=&GBUSER_TK_PASS1_ORICOUNTRY.ALL_ACCNO_NAME-OP=ctn&GBUSER_TK_PASS1_ORICOUNTRY.ALL_ACCNO_NAME=&GBUSER_TK_PASS1_ORICOUNTRY.ORI_COUNTRY-OP=%3D&GBUSER_TK_PASS1_ORICOUNTRY.ORI_COUNTRY=&GBUSER_TK_PASS1_SSCOUNTRY.SS_COUNTRY-OP=%3D&GBUSER_TK_PASS1_SSCOUNTRY.SS_COUNTRY=&GBUSER_TK_PASS1_ORICOUNTRY.CULT_TYPE-OP=%3D&GBUSER_TK_PASS1_ORICOUNTRY.CULT_TYPE=&GBUSER_TK_MORPH1_2.MAT-OP=%3E%3D&GBUSER_TK_MORPH1_2.MAT=&GBUSER_TK_MORPH1_2.MAT-OP=%3C%3D&GBUSER_TK_MORPH1_2.MAT=&GBUSER_TK_MORPH1_2.GRLT-OP=%3E%3D&GBUSER_TK_MORPH1_2.GRLT=&GBUSER_TK_MORPH1_2.GRLT-OP=%3C%3D&GBUSER_TK_MORPH1_2.GRLT=&GBUSER_TK_MORPH1_2.GRWD-OP=%3E%3D&GBUSER_TK_MORPH1_2.GRWD=&GBUSER_TK_MORPH1_2.GRWD-OP=%3C%3D&GBUSER_TK_MORPH1_2.GRWD=&GBUSER_TK_MORPH1_2.VG-OP=%3D&GBUSER_TK_MORPH1_2.VG=&GBUSER_TK_MORPH1_2.ENDO-OP=%3D&GBUSER_TK_MORPH1_2.ENDO=&GBUSER_TK_MORPH1_2.SCCO_REV-OP=%3D&GBUSER_TK_MORPH1_2.SCCO_REV=&GBUSER_TK_EVAL.BL_DESCRIPTION-OP=ctn&GBUSER_TK_EVAL.BL_DESCRIPTION=&GBUSER_TK_EVAL.BB_DESCRIPTION-OP=ctn&GBUSER_TK_EVAL.BB_DESCRIPTION=&GBUSER_TK_EVAL.SHB_DESCRIPTION-OP=ctn&GBUSER_TK_EVAL.SHB_DESCRIPTION=&Output=%2FGRC%2FAccessionID.htm&Limit=25\")\n",
    "# allinfo25=requests.get(\"http://www.irgcis.irri.org:81/grc/TK.exe$Query?DataSource=IRG&GBUSER_TK_PASS1_ORICOUNTRY.STATUS_ACC-OP=%3D&GBUSER_TK_PASS1_ORICOUNTRY.STATUS_ACC=&GBUSER_TK_PASS1_ORICOUNTRY.ACCNO-OP=%3E%3D&GBUSER_TK_PASS1_ORICOUNTRY.ACCNO=&GBUSER_TK_PASS1_ORICOUNTRY.ACCNO-OP=%3C%3D&GBUSER_TK_PASS1_ORICOUNTRY.ACCNO=&GBUSER_TK_PASS1_ORICOUNTRY.SPECIES_REID-OP=%3D&GBUSER_TK_PASS1_ORICOUNTRY.SPECIES_REID=&GBUSER_TK_PASS1_ORICOUNTRY.ALL_ACCNO_NAME-OP=ctn&GBUSER_TK_PASS1_ORICOUNTRY.ALL_ACCNO_NAME=&GBUSER_TK_PASS1_ORICOUNTRY.ORI_COUNTRY-OP=%3D&GBUSER_TK_PASS1_ORICOUNTRY.ORI_COUNTRY=&GBUSER_TK_PASS1_SSCOUNTRY.SS_COUNTRY-OP=%3D&GBUSER_TK_PASS1_SSCOUNTRY.SS_COUNTRY=&GBUSER_TK_PASS1_ORICOUNTRY.CULT_TYPE-OP=%3D&GBUSER_TK_PASS1_ORICOUNTRY.CULT_TYPE=&GBUSER_TK_MORPH1_2.MAT-OP=%3E%3D&GBUSER_TK_MORPH1_2.MAT=&GBUSER_TK_MORPH1_2.MAT-OP=%3C%3D&GBUSER_TK_MORPH1_2.MAT=&GBUSER_TK_MORPH1_2.GRLT-OP=%3E%3D&GBUSER_TK_MORPH1_2.GRLT=&GBUSER_TK_MORPH1_2.GRLT-OP=%3C%3D&GBUSER_TK_MORPH1_2.GRLT=&GBUSER_TK_MORPH1_2.GRWD-OP=%3E%3D&GBUSER_TK_MORPH1_2.GRWD=&GBUSER_TK_MORPH1_2.GRWD-OP=%3C%3D&GBUSER_TK_MORPH1_2.GRWD=&GBUSER_TK_MORPH1_2.VG-OP=%3D&GBUSER_TK_MORPH1_2.VG=&GBUSER_TK_MORPH1_2.ENDO-OP=%3D&GBUSER_TK_MORPH1_2.ENDO=&GBUSER_TK_MORPH1_2.SCCO_REV-OP=%3D&GBUSER_TK_MORPH1_2.SCCO_REV=&GBUSER_TK_EVAL.BL_DESCRIPTION-OP=ctn&GBUSER_TK_EVAL.BL_DESCRIPTION=&GBUSER_TK_EVAL.BB_DESCRIPTION-OP=ctn&GBUSER_TK_EVAL.BB_DESCRIPTION=&GBUSER_TK_EVAL.SHB_DESCRIPTION-OP=ctn&GBUSER_TK_EVAL.SHB_DESCRIPTION=&Output=%2FGRC%2FDataOnSearchForm.htm&Limit=25\")\n",
    "# locationinfo25=requests.get(\"http://www.irgcis.irri.org:81/grc/TK.exe$Query?DataSource=IRG&GBUSER_TK_PASS1_ORICOUNTRY.STATUS_ACC-OP=%3D&GBUSER_TK_PASS1_ORICOUNTRY.STATUS_ACC=&GBUSER_TK_PASS1_ORICOUNTRY.ACCNO-OP=%3E%3D&GBUSER_TK_PASS1_ORICOUNTRY.ACCNO=&GBUSER_TK_PASS1_ORICOUNTRY.ACCNO-OP=%3C%3D&GBUSER_TK_PASS1_ORICOUNTRY.ACCNO=&GBUSER_TK_PASS1_ORICOUNTRY.SPECIES_REID-OP=%3D&GBUSER_TK_PASS1_ORICOUNTRY.SPECIES_REID=&GBUSER_TK_PASS1_ORICOUNTRY.ALL_ACCNO_NAME-OP=ctn&GBUSER_TK_PASS1_ORICOUNTRY.ALL_ACCNO_NAME=&GBUSER_TK_PASS1_ORICOUNTRY.ORI_COUNTRY-OP=%3D&GBUSER_TK_PASS1_ORICOUNTRY.ORI_COUNTRY=&GBUSER_TK_PASS1_SSCOUNTRY.SS_COUNTRY-OP=%3D&GBUSER_TK_PASS1_SSCOUNTRY.SS_COUNTRY=&GBUSER_TK_PASS1_ORICOUNTRY.CULT_TYPE-OP=%3D&GBUSER_TK_PASS1_ORICOUNTRY.CULT_TYPE=&GBUSER_TK_MORPH1_2.MAT-OP=%3E%3D&GBUSER_TK_MORPH1_2.MAT=&GBUSER_TK_MORPH1_2.MAT-OP=%3C%3D&GBUSER_TK_MORPH1_2.MAT=&GBUSER_TK_MORPH1_2.GRLT-OP=%3E%3D&GBUSER_TK_MORPH1_2.GRLT=&GBUSER_TK_MORPH1_2.GRLT-OP=%3C%3D&GBUSER_TK_MORPH1_2.GRLT=&GBUSER_TK_MORPH1_2.GRWD-OP=%3E%3D&GBUSER_TK_MORPH1_2.GRWD=&GBUSER_TK_MORPH1_2.GRWD-OP=%3C%3D&GBUSER_TK_MORPH1_2.GRWD=&GBUSER_TK_MORPH1_2.VG-OP=%3D&GBUSER_TK_MORPH1_2.VG=&GBUSER_TK_MORPH1_2.ENDO-OP=%3D&GBUSER_TK_MORPH1_2.ENDO=&GBUSER_TK_MORPH1_2.SCCO_REV-OP=%3D&GBUSER_TK_MORPH1_2.SCCO_REV=&GBUSER_TK_EVAL.BL_DESCRIPTION-OP=ctn&GBUSER_TK_EVAL.BL_DESCRIPTION=&GBUSER_TK_EVAL.BB_DESCRIPTION-OP=ctn&GBUSER_TK_EVAL.BB_DESCRIPTION=&GBUSER_TK_EVAL.SHB_DESCRIPTION-OP=ctn&GBUSER_TK_EVAL.SHB_DESCRIPTION=&Output=%2FGRC%2FPassCollectLoc.htm&Limit=25\")\n",
    "# morphoveginfo25=requests.get(\"http://www.irgcis.irri.org:81/grc/TK.exe$Query?DataSource=IRG&GBUSER_TK_PASS1_ORICOUNTRY.STATUS_ACC-OP=%3D&GBUSER_TK_PASS1_ORICOUNTRY.STATUS_ACC=&GBUSER_TK_PASS1_ORICOUNTRY.ACCNO-OP=%3E%3D&GBUSER_TK_PASS1_ORICOUNTRY.ACCNO=&GBUSER_TK_PASS1_ORICOUNTRY.ACCNO-OP=%3C%3D&GBUSER_TK_PASS1_ORICOUNTRY.ACCNO=&GBUSER_TK_PASS1_ORICOUNTRY.SPECIES_REID-OP=%3D&GBUSER_TK_PASS1_ORICOUNTRY.SPECIES_REID=&GBUSER_TK_PASS1_ORICOUNTRY.ALL_ACCNO_NAME-OP=ctn&GBUSER_TK_PASS1_ORICOUNTRY.ALL_ACCNO_NAME=&GBUSER_TK_PASS1_ORICOUNTRY.ORI_COUNTRY-OP=%3D&GBUSER_TK_PASS1_ORICOUNTRY.ORI_COUNTRY=&GBUSER_TK_PASS1_SSCOUNTRY.SS_COUNTRY-OP=%3D&GBUSER_TK_PASS1_SSCOUNTRY.SS_COUNTRY=&GBUSER_TK_PASS1_ORICOUNTRY.CULT_TYPE-OP=%3D&GBUSER_TK_PASS1_ORICOUNTRY.CULT_TYPE=&GBUSER_TK_MORPH1_2.MAT-OP=%3E%3D&GBUSER_TK_MORPH1_2.MAT=&GBUSER_TK_MORPH1_2.MAT-OP=%3C%3D&GBUSER_TK_MORPH1_2.MAT=&GBUSER_TK_MORPH1_2.GRLT-OP=%3E%3D&GBUSER_TK_MORPH1_2.GRLT=&GBUSER_TK_MORPH1_2.GRLT-OP=%3C%3D&GBUSER_TK_MORPH1_2.GRLT=&GBUSER_TK_MORPH1_2.GRWD-OP=%3E%3D&GBUSER_TK_MORPH1_2.GRWD=&GBUSER_TK_MORPH1_2.GRWD-OP=%3C%3D&GBUSER_TK_MORPH1_2.GRWD=&GBUSER_TK_MORPH1_2.VG-OP=%3D&GBUSER_TK_MORPH1_2.VG=&GBUSER_TK_MORPH1_2.ENDO-OP=%3D&GBUSER_TK_MORPH1_2.ENDO=&GBUSER_TK_MORPH1_2.SCCO_REV-OP=%3D&GBUSER_TK_MORPH1_2.SCCO_REV=&GBUSER_TK_EVAL.BL_DESCRIPTION-OP=ctn&GBUSER_TK_EVAL.BL_DESCRIPTION=&GBUSER_TK_EVAL.BB_DESCRIPTION-OP=ctn&GBUSER_TK_EVAL.BB_DESCRIPTION=&GBUSER_TK_EVAL.SHB_DESCRIPTION-OP=ctn&GBUSER_TK_EVAL.SHB_DESCRIPTION=&Output=%2FGRC%2FMorphVegAllSpp.htm&Limit=25\")\n",
    "# morphoreproinfo25=requests.get(\"http://www.irgcis.irri.org:81/grc/TK.exe$Query?DataSource=IRG&GBUSER_TK_PASS1_ORICOUNTRY.STATUS_ACC-OP=%3D&GBUSER_TK_PASS1_ORICOUNTRY.STATUS_ACC=&GBUSER_TK_PASS1_ORICOUNTRY.ACCNO-OP=%3E%3D&GBUSER_TK_PASS1_ORICOUNTRY.ACCNO=&GBUSER_TK_PASS1_ORICOUNTRY.ACCNO-OP=%3C%3D&GBUSER_TK_PASS1_ORICOUNTRY.ACCNO=&GBUSER_TK_PASS1_ORICOUNTRY.SPECIES_REID-OP=%3D&GBUSER_TK_PASS1_ORICOUNTRY.SPECIES_REID=&GBUSER_TK_PASS1_ORICOUNTRY.ALL_ACCNO_NAME-OP=ctn&GBUSER_TK_PASS1_ORICOUNTRY.ALL_ACCNO_NAME=&GBUSER_TK_PASS1_ORICOUNTRY.ORI_COUNTRY-OP=%3D&GBUSER_TK_PASS1_ORICOUNTRY.ORI_COUNTRY=&GBUSER_TK_PASS1_SSCOUNTRY.SS_COUNTRY-OP=%3D&GBUSER_TK_PASS1_SSCOUNTRY.SS_COUNTRY=&GBUSER_TK_PASS1_ORICOUNTRY.CULT_TYPE-OP=%3D&GBUSER_TK_PASS1_ORICOUNTRY.CULT_TYPE=&GBUSER_TK_MORPH1_2.MAT-OP=%3E%3D&GBUSER_TK_MORPH1_2.MAT=&GBUSER_TK_MORPH1_2.MAT-OP=%3C%3D&GBUSER_TK_MORPH1_2.MAT=&GBUSER_TK_MORPH1_2.GRLT-OP=%3E%3D&GBUSER_TK_MORPH1_2.GRLT=&GBUSER_TK_MORPH1_2.GRLT-OP=%3C%3D&GBUSER_TK_MORPH1_2.GRLT=&GBUSER_TK_MORPH1_2.GRWD-OP=%3E%3D&GBUSER_TK_MORPH1_2.GRWD=&GBUSER_TK_MORPH1_2.GRWD-OP=%3C%3D&GBUSER_TK_MORPH1_2.GRWD=&GBUSER_TK_MORPH1_2.VG-OP=%3D&GBUSER_TK_MORPH1_2.VG=&GBUSER_TK_MORPH1_2.ENDO-OP=%3D&GBUSER_TK_MORPH1_2.ENDO=&GBUSER_TK_MORPH1_2.SCCO_REV-OP=%3D&GBUSER_TK_MORPH1_2.SCCO_REV=&GBUSER_TK_EVAL.BL_DESCRIPTION-OP=ctn&GBUSER_TK_EVAL.BL_DESCRIPTION=&GBUSER_TK_EVAL.BB_DESCRIPTION-OP=ctn&GBUSER_TK_EVAL.BB_DESCRIPTION=&GBUSER_TK_EVAL.SHB_DESCRIPTION-OP=ctn&GBUSER_TK_EVAL.SHB_DESCRIPTION=&Output=%2FGRC%2FMorpReproAllSpp.htm&Limit=25\")\n",
    "# morphoharvestinfo25=requests.get(\"http://www.irgcis.irri.org:81/grc/TK.exe$Query?DataSource=IRG&GBUSER_TK_PASS1_ORICOUNTRY.STATUS_ACC-OP=%3D&GBUSER_TK_PASS1_ORICOUNTRY.STATUS_ACC=&GBUSER_TK_PASS1_ORICOUNTRY.ACCNO-OP=%3E%3D&GBUSER_TK_PASS1_ORICOUNTRY.ACCNO=&GBUSER_TK_PASS1_ORICOUNTRY.ACCNO-OP=%3C%3D&GBUSER_TK_PASS1_ORICOUNTRY.ACCNO=&GBUSER_TK_PASS1_ORICOUNTRY.SPECIES_REID-OP=%3D&GBUSER_TK_PASS1_ORICOUNTRY.SPECIES_REID=&GBUSER_TK_PASS1_ORICOUNTRY.ALL_ACCNO_NAME-OP=ctn&GBUSER_TK_PASS1_ORICOUNTRY.ALL_ACCNO_NAME=&GBUSER_TK_PASS1_ORICOUNTRY.ORI_COUNTRY-OP=%3D&GBUSER_TK_PASS1_ORICOUNTRY.ORI_COUNTRY=&GBUSER_TK_PASS1_SSCOUNTRY.SS_COUNTRY-OP=%3D&GBUSER_TK_PASS1_SSCOUNTRY.SS_COUNTRY=&GBUSER_TK_PASS1_ORICOUNTRY.CULT_TYPE-OP=%3D&GBUSER_TK_PASS1_ORICOUNTRY.CULT_TYPE=&GBUSER_TK_MORPH1_2.MAT-OP=%3E%3D&GBUSER_TK_MORPH1_2.MAT=&GBUSER_TK_MORPH1_2.MAT-OP=%3C%3D&GBUSER_TK_MORPH1_2.MAT=&GBUSER_TK_MORPH1_2.GRLT-OP=%3E%3D&GBUSER_TK_MORPH1_2.GRLT=&GBUSER_TK_MORPH1_2.GRLT-OP=%3C%3D&GBUSER_TK_MORPH1_2.GRLT=&GBUSER_TK_MORPH1_2.GRWD-OP=%3E%3D&GBUSER_TK_MORPH1_2.GRWD=&GBUSER_TK_MORPH1_2.GRWD-OP=%3C%3D&GBUSER_TK_MORPH1_2.GRWD=&GBUSER_TK_MORPH1_2.VG-OP=%3D&GBUSER_TK_MORPH1_2.VG=&GBUSER_TK_MORPH1_2.ENDO-OP=%3D&GBUSER_TK_MORPH1_2.ENDO=&GBUSER_TK_MORPH1_2.SCCO_REV-OP=%3D&GBUSER_TK_MORPH1_2.SCCO_REV=&GBUSER_TK_EVAL.BL_DESCRIPTION-OP=ctn&GBUSER_TK_EVAL.BL_DESCRIPTION=&GBUSER_TK_EVAL.BB_DESCRIPTION-OP=ctn&GBUSER_TK_EVAL.BB_DESCRIPTION=&GBUSER_TK_EVAL.SHB_DESCRIPTION-OP=ctn&GBUSER_TK_EVAL.SHB_DESCRIPTION=&Output=%2FGRC%2FMorphHarvPostAllSpp.htm&Limit=25\")\n",
    "# diseasereactioninfo25=requests.get(\"http://www.irgcis.irri.org:81/grc/TK.exe$Query?DataSource=IRG&GBUSER_TK_PASS1_ORICOUNTRY.STATUS_ACC-OP=%3D&GBUSER_TK_PASS1_ORICOUNTRY.STATUS_ACC=&GBUSER_TK_PASS1_ORICOUNTRY.ACCNO-OP=%3E%3D&GBUSER_TK_PASS1_ORICOUNTRY.ACCNO=&GBUSER_TK_PASS1_ORICOUNTRY.ACCNO-OP=%3C%3D&GBUSER_TK_PASS1_ORICOUNTRY.ACCNO=&GBUSER_TK_PASS1_ORICOUNTRY.SPECIES_REID-OP=%3D&GBUSER_TK_PASS1_ORICOUNTRY.SPECIES_REID=&GBUSER_TK_PASS1_ORICOUNTRY.ALL_ACCNO_NAME-OP=ctn&GBUSER_TK_PASS1_ORICOUNTRY.ALL_ACCNO_NAME=&GBUSER_TK_PASS1_ORICOUNTRY.ORI_COUNTRY-OP=%3D&GBUSER_TK_PASS1_ORICOUNTRY.ORI_COUNTRY=&GBUSER_TK_PASS1_SSCOUNTRY.SS_COUNTRY-OP=%3D&GBUSER_TK_PASS1_SSCOUNTRY.SS_COUNTRY=&GBUSER_TK_PASS1_ORICOUNTRY.CULT_TYPE-OP=%3D&GBUSER_TK_PASS1_ORICOUNTRY.CULT_TYPE=&GBUSER_TK_MORPH1_2.MAT-OP=%3E%3D&GBUSER_TK_MORPH1_2.MAT=&GBUSER_TK_MORPH1_2.MAT-OP=%3C%3D&GBUSER_TK_MORPH1_2.MAT=&GBUSER_TK_MORPH1_2.GRLT-OP=%3E%3D&GBUSER_TK_MORPH1_2.GRLT=&GBUSER_TK_MORPH1_2.GRLT-OP=%3C%3D&GBUSER_TK_MORPH1_2.GRLT=&GBUSER_TK_MORPH1_2.GRWD-OP=%3E%3D&GBUSER_TK_MORPH1_2.GRWD=&GBUSER_TK_MORPH1_2.GRWD-OP=%3C%3D&GBUSER_TK_MORPH1_2.GRWD=&GBUSER_TK_MORPH1_2.VG-OP=%3D&GBUSER_TK_MORPH1_2.VG=&GBUSER_TK_MORPH1_2.ENDO-OP=%3D&GBUSER_TK_MORPH1_2.ENDO=&GBUSER_TK_MORPH1_2.SCCO_REV-OP=%3D&GBUSER_TK_MORPH1_2.SCCO_REV=&GBUSER_TK_EVAL.BL_DESCRIPTION-OP=ctn&GBUSER_TK_EVAL.BL_DESCRIPTION=&GBUSER_TK_EVAL.BB_DESCRIPTION-OP=ctn&GBUSER_TK_EVAL.BB_DESCRIPTION=&GBUSER_TK_EVAL.SHB_DESCRIPTION-OP=ctn&GBUSER_TK_EVAL.SHB_DESCRIPTION=&Output=%2FGRC%2FDisease_resist.htm&Limit=25\")\n",
    "# envreactioninfo25=requests.get(\"http://www.irgcis.irri.org:81/grc/TK.exe$Query?DataSource=IRG&GBUSER_TK_PASS1_ORICOUNTRY.STATUS_ACC-OP=%3D&GBUSER_TK_PASS1_ORICOUNTRY.STATUS_ACC=&GBUSER_TK_PASS1_ORICOUNTRY.ACCNO-OP=%3E%3D&GBUSER_TK_PASS1_ORICOUNTRY.ACCNO=&GBUSER_TK_PASS1_ORICOUNTRY.ACCNO-OP=%3C%3D&GBUSER_TK_PASS1_ORICOUNTRY.ACCNO=&GBUSER_TK_PASS1_ORICOUNTRY.SPECIES_REID-OP=%3D&GBUSER_TK_PASS1_ORICOUNTRY.SPECIES_REID=&GBUSER_TK_PASS1_ORICOUNTRY.ALL_ACCNO_NAME-OP=ctn&GBUSER_TK_PASS1_ORICOUNTRY.ALL_ACCNO_NAME=&GBUSER_TK_PASS1_ORICOUNTRY.ORI_COUNTRY-OP=%3D&GBUSER_TK_PASS1_ORICOUNTRY.ORI_COUNTRY=&GBUSER_TK_PASS1_SSCOUNTRY.SS_COUNTRY-OP=%3D&GBUSER_TK_PASS1_SSCOUNTRY.SS_COUNTRY=&GBUSER_TK_PASS1_ORICOUNTRY.CULT_TYPE-OP=%3D&GBUSER_TK_PASS1_ORICOUNTRY.CULT_TYPE=&GBUSER_TK_MORPH1_2.MAT-OP=%3E%3D&GBUSER_TK_MORPH1_2.MAT=&GBUSER_TK_MORPH1_2.MAT-OP=%3C%3D&GBUSER_TK_MORPH1_2.MAT=&GBUSER_TK_MORPH1_2.GRLT-OP=%3E%3D&GBUSER_TK_MORPH1_2.GRLT=&GBUSER_TK_MORPH1_2.GRLT-OP=%3C%3D&GBUSER_TK_MORPH1_2.GRLT=&GBUSER_TK_MORPH1_2.GRWD-OP=%3E%3D&GBUSER_TK_MORPH1_2.GRWD=&GBUSER_TK_MORPH1_2.GRWD-OP=%3C%3D&GBUSER_TK_MORPH1_2.GRWD=&GBUSER_TK_MORPH1_2.VG-OP=%3D&GBUSER_TK_MORPH1_2.VG=&GBUSER_TK_MORPH1_2.ENDO-OP=%3D&GBUSER_TK_MORPH1_2.ENDO=&GBUSER_TK_MORPH1_2.SCCO_REV-OP=%3D&GBUSER_TK_MORPH1_2.SCCO_REV=&GBUSER_TK_EVAL.BL_DESCRIPTION-OP=ctn&GBUSER_TK_EVAL.BL_DESCRIPTION=&GBUSER_TK_EVAL.BB_DESCRIPTION-OP=ctn&GBUSER_TK_EVAL.BB_DESCRIPTION=&GBUSER_TK_EVAL.SHB_DESCRIPTION-OP=ctn&GBUSER_TK_EVAL.SHB_DESCRIPTION=&Output=%2FGRC%2FPhysiochem.htm&Limit=25\")"
   ]
  },
  {
   "cell_type": "code",
   "execution_count": 237,
   "metadata": {
    "collapsed": true
   },
   "outputs": [],
   "source": [
    "def dict_builder(query,rows):\n",
    "    \n",
    "    if query == 'basicinfo':\n",
    "        fields=['strain_id', 'species_name', 'variety_name', 'previous_name', \n",
    "                    'pedigree', 'collection_number', 'acc_id_seq_num', 'acc_id_seed_donor_number',\n",
    "                    'source_country', 'donor_country', 'acc_date', 'status', 'cultural_type',\n",
    "                    'special_traits', 'fao_in_trust', 'multilateral_system']\n",
    "    elif query == 'allinfo':\n",
    "        fields=['strain_id', 'species_name', 'variety_name', 'previous_name', \n",
    "                'pedigree', 'collection_number', 'acc_id_seed_donor_number',\n",
    "                'source_country', 'cultural_type','days_to_mat', 'grain_len',\n",
    "                'grain_wid', 'varietal_group', 'endosperm_type', 'endosperm_color',\n",
    "                'seed_coat_color', 'rice_blast', 'bacterial_blight', 'sheath_blight']\n",
    "    elif query == 'locationinfo':\n",
    "        fields=['strain_id', 'species_name', 'variety_name', 'province',\n",
    "                'district', 'town', 'village', 'latitude', 'longitude', 'altitude']\n",
    "    elif query == 'morphoveginfo':\n",
    "        fields=['strain_id', 'subpopulation', 'species_name', 'variety_name', \n",
    "                'source_country', 'blade_pub', 'blade_color', 'basal_color', 'ligule_shape',\n",
    "                'leaf_texture', 'leaf_angle', 'seedling_height', 'ligule_color', \n",
    "                'collar_color', 'auricle_color']\n",
    "    elif query == 'morphoreproinfo':\n",
    "        fields=['strain_id', 'subpopulation', 'species_name', 'variety_name', \n",
    "                'source_country', 'culm_angle', 'node_color', 'internode_color', \n",
    "                'internode_color', 'culm_strength', 'flat_leaf_angle', 'flag_leaf_angle',\n",
    "                'panicle', 'secondary_branching', 'panicle_exerion', 'panicle_axis',\n",
    "                'awn_presence', 'awn_color', 'apiculus_color', 'stigma_color', 'lemma_color',\n",
    "                'leaf_length', 'leaf_width', 'culm_length', 'culm_num', 'culm_diam', \n",
    "                'days_to_head', 'variety_group_from_morph', 'days_to_flower', 'lingule_pub',\n",
    "                'lemma_color_at_anthesis', 'internode_color','culm_strength_cult']\n",
    "    elif query == 'morphoharvestinfo':\n",
    "        fields=['strain_id', 'species_name', 'variety_name', 'source_country', \n",
    "                'days_to_maturity', 'panicle_shattering', 'leaf_senescence', 'spikelet_fertility',\n",
    "                'panicle_thesability', 'apiculus_color_post_harv', 'lemma_and_palea_color',\n",
    "                'lemma_and_palea_pub', 'seat_coat_color']\n",
    "    elif query == 'diseasereactioninfo':\n",
    "        fields=['strain_id', 'species_name', 'variety_name', 'source_country', \n",
    "                'blast', 'bacterial_blight', 'sheath_blight', 'tungro_virus']\n",
    "    elif query == 'envreactioninfo':\n",
    "        fields=['strain_id', 'species_name', 'variety_name', 'source_country', \n",
    "                'alkali_tolerance', 'cold_tolerance', 'drought_1', 'drought_2',\n",
    "                'drought_3', 'drought_4', 'drought_5', 'drought_6', 'drought_7',\n",
    "                'drought_8', 'drought_9', 'elogation', 'flood_tolerance', \n",
    "                'salt_tolerance', 'zinc_def_1', 'zinc_def_1']\n",
    "    else:\n",
    "        fields =[]\n",
    "\n",
    "    ricestrains=[]\n",
    "    \n",
    "    for r in rows:\n",
    "        # Extract the \"td\" element from the current value of r.\n",
    "        d_td=pq(r)('td')\n",
    "\n",
    "        a = [pq(d_td[i]).text() for i in range(0,len(pq(d_td)))]\n",
    "\n",
    "        ricedict = dict(zip(fields,a))\n",
    "        ricestrains.append(ricedict)\n",
    "    \n",
    "    return ricestrains"
   ]
  },
  {
   "cell_type": "code",
   "execution_count": 276,
   "metadata": {
    "collapsed": false
   },
   "outputs": [],
   "source": [
    "# print \"basicinfo: 131,112 rows\"\n",
    "# print \"allinfo: 134,842 rows\"\n",
    "# print \"locationinfo: 127,128 rows\"\n",
    "# print \"morphoveginfo: 130,800 rows\"\n",
    "# print \"morphoreproinfo: 130,800 rows\"\n",
    "# print \"morphoharvestinfo: 130,800 rows\"\n",
    "# print \"diseasereactioninfo: 127,128 rows\"\n",
    "# print \"envreactioninfo: 127,128 rows\""
   ]
  },
  {
   "cell_type": "code",
   "execution_count": 275,
   "metadata": {
    "collapsed": false
   },
   "outputs": [],
   "source": [
    "# d_= pq(basicinfo25.text)\n",
    "# d_rows = pq(d_('tr')[4:])\n",
    "# d_rows = pq(d_rows[:(len(d_rows)-1)])\n",
    "# print pq(d_rows[10])"
   ]
  },
  {
   "cell_type": "code",
   "execution_count": 261,
   "metadata": {
    "collapsed": false
   },
   "outputs": [
    {
     "name": "stdout",
     "output_type": "stream",
     "text": [
      "CPU times: user 6min 28s, sys: 18.8 s, total: 6min 47s\n",
      "Wall time: 6min 50s\n"
     ]
    }
   ],
   "source": [
    "%%time\n",
    "scrapedlist = [('basicinfo',basicinfo), ('allinfo',allinfo), \n",
    "              ('locationinfo',locationinfo), ('morphoveginfo',morphoveginfo),\n",
    "              ('morphoreproinfo',morphoreproinfo), ('morphoharvestinfo',morphoharvestinfo), \n",
    "              ('diseasereactioninfo',diseasereactioninfo), ('envreactioninfo',envreactioninfo)]\n",
    "\n",
    "dict_list=[]\n",
    "\n",
    "for k,v in scrapedlist:\n",
    "    \n",
    "    d_= pq(v.text)\n",
    "    d_rows = pq(d_('tr')[4:])\n",
    "    d_rows = pq(d_rows[:(len(d_rows)-1)])\n",
    "\n",
    "    dict_list.append((k, dict_builder(k,pq(d_rows))))"
   ]
  },
  {
   "cell_type": "code",
   "execution_count": 343,
   "metadata": {
    "collapsed": false
   },
   "outputs": [],
   "source": [
    "# scrapedlistsmall = [('basicinfo',basicinfo25), ('allinfo',allinfo25), \n",
    "#               ('locationinfo',locationinfo25), ('morphoveginfo',morphoveginfo25),\n",
    "#               ('morphoreproinfo',morphoreproinfo25), ('morphoharvestinfo',morphoharvestinfo25), \n",
    "#               ('diseasereactioninfo',diseasereactioninfo25), ('envreactioninfo',envreactioninfo25)]\n",
    "\n",
    "# dict_list2=[]\n",
    "\n",
    "# for k,v in scrapedlistsmall:\n",
    "    \n",
    "#     d_= pq(v.text)\n",
    "#     d_rows = pq(d_('tr')[4:])\n",
    "#     d_rows = pq(d_rows[:(len(d_rows)-1)])\n",
    "\n",
    "#     dict_list2.append((k, dict_builder(k,pq(d_rows))))"
   ]
  },
  {
   "cell_type": "code",
   "execution_count": 15,
   "metadata": {
    "collapsed": false
   },
   "outputs": [
    {
     "name": "stdout",
     "output_type": "stream",
     "text": [
      "tempdata/4\n",
      "tempdata/5\n",
      "tempdata/6\n"
     ]
    }
   ],
   "source": [
    "# for k,v in dict_list:\n",
    "#     print k + \" rows: \" + str(len(v))\n",
    "dict_list = [(4,1),(5,2),(6,3)]  \n",
    "\n",
    "for k,v in dict_list:\n",
    "    #print str(k) + \" rows: \" + str((v))\n",
    "    picklename = \"tempdata/\" + str(k)\n",
    "    print picklename"
   ]
  },
  {
   "cell_type": "code",
   "execution_count": 530,
   "metadata": {
    "collapsed": false
   },
   "outputs": [
    {
     "name": "stdout",
     "output_type": "stream",
     "text": [
      "8\n"
     ]
    }
   ],
   "source": [
    "df_list = []\n",
    "\n",
    "for k,v in dict_list:\n",
    "    a = pd.DataFrame(v)\n",
    "    a.strain_id = a.strain_id.astype(int)\n",
    "    a.drop_duplicates()\n",
    "    df_list.append(a)"
   ]
  },
  {
   "cell_type": "code",
   "execution_count": 668,
   "metadata": {
    "collapsed": false
   },
   "outputs": [
    {
     "name": "stdout",
     "output_type": "stream",
     "text": [
      "Uncleaned Merged rows: 407920\n",
      "  Cleaned Merged rows: 127128\n"
     ]
    }
   ],
   "source": [
    "df_final = reduce(lambda left,right: pd.merge(left,right,on='strain_id'), df_list)\n",
    "\n",
    "print \"Uncleaned Merged rows: \" + str(len(df_final))\n",
    "\n",
    "df_clean = df_final.drop_duplicates('strain_id')\n",
    "\n",
    "print \"  Cleaned Merged rows: \" + str(len(df_clean))"
   ]
  },
  {
   "cell_type": "code",
   "execution_count": 688,
   "metadata": {
    "collapsed": false
   },
   "outputs": [
    {
     "data": {
      "text/html": [
       "<div>\n",
       "<table border=\"1\" class=\"dataframe\">\n",
       "  <thead>\n",
       "    <tr style=\"text-align: right;\">\n",
       "      <th></th>\n",
       "      <th>strain_id</th>\n",
       "      <th>days_to_maturity</th>\n",
       "    </tr>\n",
       "  </thead>\n",
       "  <tbody>\n",
       "    <tr>\n",
       "      <th>51082</th>\n",
       "      <td>125751</td>\n",
       "      <td>0</td>\n",
       "    </tr>\n",
       "  </tbody>\n",
       "</table>\n",
       "</div>"
      ],
      "text/plain": [
       "       strain_id days_to_maturity\n",
       "51082     125751                0"
      ]
     },
     "execution_count": 688,
     "metadata": {},
     "output_type": "execute_result"
    }
   ],
   "source": [
    "#df_clean.head()    127120\n",
    "df_list[5].head()\n",
    "c = df_list[5][df_list[5].strain_id==125751][['strain_id','days_to_maturity']]\n",
    "\n",
    "#c = merged_large_df[merged_large_df.days_to_mat!='0'][['latitude','strain_id','endosperm_type','days_to_mat','grain_len']]\n",
    "c.head()"
   ]
  },
  {
   "cell_type": "code",
   "execution_count": 6,
   "metadata": {
    "collapsed": false
   },
   "outputs": [],
   "source": [
    "index_df = pd.read_csv('index.csv')\n",
    "\n",
    "all_info_df = pd.read_csv('all_info_combined.csv')"
   ]
  },
  {
   "cell_type": "code",
   "execution_count": null,
   "metadata": {
    "collapsed": true
   },
   "outputs": [],
   "source": [
    "array=[]\n",
    "for r in index_df.index:\n",
    "    if isinstance(index_df.ix[r][\"DNA_Accno_source\"], str):\n",
    "        array.append(int(index_df.ix[r][\"DNA_Accno_source\"][5:]))\n",
    "    else:\n",
    "        array.append(np.nan)\n",
    "index_df.insert(9, \"IRGC_Number\", array);"
   ]
  },
  {
   "cell_type": "code",
   "execution_count": 1,
   "metadata": {
    "collapsed": false
   },
   "outputs": [
    {
     "ename": "NameError",
     "evalue": "name 'pd' is not defined",
     "output_type": "error",
     "traceback": [
      "\u001b[0;31m---------------------------------------------------------------------------\u001b[0m",
      "\u001b[0;31mNameError\u001b[0m                                 Traceback (most recent call last)",
      "\u001b[0;32m<ipython-input-1-45d0ac84b22e>\u001b[0m in \u001b[0;36m<module>\u001b[0;34m()\u001b[0m\n\u001b[0;32m----> 1\u001b[0;31m \u001b[0mindex_df\u001b[0m \u001b[0;34m=\u001b[0m \u001b[0mpd\u001b[0m\u001b[0;34m.\u001b[0m\u001b[0mread_csv\u001b[0m\u001b[0;34m(\u001b[0m\u001b[0;34m'index.csv'\u001b[0m\u001b[0;34m)\u001b[0m\u001b[0;34m\u001b[0m\u001b[0m\n\u001b[0m\u001b[1;32m      2\u001b[0m \u001b[0;34m\u001b[0m\u001b[0m\n\u001b[1;32m      3\u001b[0m \u001b[0marray\u001b[0m\u001b[0;34m=\u001b[0m\u001b[0;34m[\u001b[0m\u001b[0;34m]\u001b[0m\u001b[0;34m\u001b[0m\u001b[0m\n\u001b[1;32m      4\u001b[0m \u001b[0;32mfor\u001b[0m \u001b[0mr\u001b[0m \u001b[0;32min\u001b[0m \u001b[0mindex_df\u001b[0m\u001b[0;34m.\u001b[0m\u001b[0mindex\u001b[0m\u001b[0;34m:\u001b[0m\u001b[0;34m\u001b[0m\u001b[0m\n\u001b[1;32m      5\u001b[0m     \u001b[0;32mif\u001b[0m \u001b[0misinstance\u001b[0m\u001b[0;34m(\u001b[0m\u001b[0mindex_df\u001b[0m\u001b[0;34m.\u001b[0m\u001b[0mix\u001b[0m\u001b[0;34m[\u001b[0m\u001b[0mr\u001b[0m\u001b[0;34m]\u001b[0m\u001b[0;34m[\u001b[0m\u001b[0;34m\"DNA_Accno_source\"\u001b[0m\u001b[0;34m]\u001b[0m\u001b[0;34m,\u001b[0m \u001b[0mstr\u001b[0m\u001b[0;34m)\u001b[0m\u001b[0;34m:\u001b[0m\u001b[0;34m\u001b[0m\u001b[0m\n",
      "\u001b[0;31mNameError\u001b[0m: name 'pd' is not defined"
     ]
    }
   ],
   "source": [
    "index_df = pd.read_csv('index.csv')\n",
    "\n",
    "array=[]\n",
    "for r in index_df.index:\n",
    "    if isinstance(index_df.ix[r][\"DNA_Accno_source\"], str):\n",
    "        array.append(int(index_df.ix[r][\"DNA_Accno_source\"][5:]))\n",
    "    else:\n",
    "        array.append(np.nan)\n",
    "index_df.insert(9, \"IRGC_Number\", array);\n",
    "\n",
    "merged_large_df=pd.merge(left=index_df,right=df_final, left_on='IRGC_Number', right_on='strain_id')\n",
    "merged_small_df=pd.merge(left=index_df,right=df_clean, left_on='IRGC_Number', right_on='strain_id')\n",
    "\n",
    "strains_in_aws = index_df.IRGC_Number\n",
    "\n",
    "troll = (index_df[np.isnan(index_df.IRGC_Number)])\n",
    "\n",
    "(troll)\n",
    "\n",
    "\n",
    "print merged_large_df.shape\n",
    "print merged_small_df.shape\n",
    "\n",
    "merged_large_df.head()\n",
    "\n",
    "# # for idx, strain in enumerate(df_final.strain_id.duplicated()):\n",
    "# #     if strain  == True:\n",
    "# #         print idx\n",
    "\n",
    "# uniqueids = df_final['strain_id'].unique()\n",
    "\n",
    "# # print len(uniqueids)\n",
    "\n",
    "# # df_final[df_final['strain_id']!=uniqueids]\n",
    "\n",
    "# #df_final[[df_final.duplicated()==True]]\n",
    "\n",
    "# tot = (np.array((df_final['strain_id'])))\n",
    "# short = (np.array(uniqueids))\n",
    "# a = np.delete(tot,short)\n",
    "# print len(a)\n",
    "# a\n",
    "\n",
    "# #df_final.iloc[a].sort('strain_id')[:50]\n",
    "\n",
    "# df_clean = df_final.drop_duplicates('strain_id')\n",
    "# df_clean.dtypes"
   ]
  },
  {
   "cell_type": "code",
   "execution_count": 652,
   "metadata": {
    "collapsed": false
   },
   "outputs": [
    {
     "data": {
      "text/plain": [
       "array(['0'], dtype=object)"
      ]
     },
     "execution_count": 652,
     "metadata": {},
     "output_type": "execute_result"
    }
   ],
   "source": [
    "(df_clean[df_clean.strain_id==int('3461')])\n",
    "c = merged_large_df[merged_large_df.strain_id!=1][['strain_id','endosperm_type','days_to_mat','grain_len']]\n",
    "df_clean[df_clean.strain_id!=1][['strain_id','endosperm_type','days_to_mat','grain_len']]\n",
    "np.unique(c.days_to_mat)"
   ]
  },
  {
   "cell_type": "code",
   "execution_count": 646,
   "metadata": {
    "collapsed": false
   },
   "outputs": [
    {
     "name": "stdout",
     "output_type": "stream",
     "text": [
      "['Entry_No', 'DNA_UNIQUE_ID', 'DNA_Designation', 'DNA_Accno_source', 'DNA_VARNAME_source', 'ORI_COUNTRY', 'Unnamed: 8', 'IRGC_Number', 'Genetic_Stock_Accno', 'Genetic_stock_Designation(varname)', 'total seq count', 'passed qc seq count', 'depth', 'Variety Group (Tree)1', 'acc_date', 'donor_country', 'multilateral_system', 'source_country_x', 'special_traits', 'status', 'strain_id', 'variety_name_x', 'source_country_y', 'variety_name_y', 'variety_name_x', 'source_country_x', 'variety_name_y', 'source_country_y', 'variety_name_x', 'source_country_x', 'variety_name_y', 'source_country_y', 'variety_name_x', 'source_country', 'variety_name_y']\n"
     ]
    }
   ],
   "source": [
    "filled_col_lst = []\n",
    "\n",
    "for column in (merged_large_df).columns:\n",
    "    colvals = np.array((merged_large_df[column]))\n",
    "    #print len(np.unique(colvals))\n",
    "    if len(np.unique(colvals)) != 1:\n",
    "        filled_col_lst.append(column)\n",
    "        #print column\n",
    "print (filled_col_lst)\n",
    "\n",
    "#c = np.delete(np.array((merged_large_df).columns),np.array(empty_col_lst))\n",
    "#np.array(empty_col_lst)"
   ]
  },
  {
   "cell_type": "code",
   "execution_count": 660,
   "metadata": {
    "collapsed": false
   },
   "outputs": [],
   "source": [
    "# #len(np.unique(df_final['strain_id']))\n",
    "\n",
    "# totalint = reduce(np.intersect1d, (df_list[0]['strain_id'], df_list[1]['strain_id'], \n",
    "#                                    df_list[2]['strain_id'],df_list[3]['strain_id'],\n",
    "#                                   df_list[4]['strain_id'],df_list[5]['strain_id'],\n",
    "#                                   df_list[6]['strain_id'],df_list[7]['strain_id']))\n",
    "\n",
    "# totalunion = reduce(np.union1d, (df_list[0]['strain_id'], df_list[1]['strain_id'], \n",
    "#                                    df_list[2]['strain_id'],df_list[3]['strain_id'],\n",
    "#                                   df_list[4]['strain_id'],df_list[5]['strain_id'],\n",
    "#                                   df_list[6]['strain_id'],df_list[7]['strain_id']))\n",
    "\n",
    "# # int01 = np.intersect1d(df_list[0]['strain_id'], df_list[1]['strain_id'], assume_unique=False)\n",
    "# # int012 = np.union(df_list[0]['strain_id'], df_list[1]['strain_id'], assume_unique=False)\n",
    "# # print len(totalint)\n",
    "# # print len(totalunion)\n",
    "# # #odd_out = np.delete(df_list[4]['strain_id'], np.unique(df_list[4]['strain_id'].all()))\n",
    "# # aa = []\n",
    "# # for strain in (((df_list[4]['strain_id']).duplicated())):\n",
    "# #     if strain == True:\n",
    "# #         print dir(strain)\n",
    "# #         #aa.append(strain.index)\n",
    "\n",
    "# # print len(aa)\n",
    "# # print len(df_list[4]['strain_id']) - len(aa)\n",
    "# #     #print strain\n",
    "    \n",
    "    \n",
    "#     #- (df_list[4]['strain_id'].unique())\n",
    "# print len(df_list[3]['strain_id'])   \n",
    "# len(df_list[3]['strain_id'].drop_duplicates())"
   ]
  },
  {
   "cell_type": "code",
   "execution_count": null,
   "metadata": {
    "collapsed": false
   },
   "outputs": [],
   "source": []
  },
  {
   "cell_type": "code",
   "execution_count": null,
   "metadata": {
    "collapsed": false
   },
   "outputs": [],
   "source": [
    "# FUN SOUND BIT\n",
    "from IPython.display import Audio\n",
    "sound_file = 'http://sfxcontent.s3.amazonaws.com/soundfx/EmergencyAlertSystemBeep.mp3'\n",
    "Audio(url=sound_file, autoplay=True)"
   ]
  },
  {
   "cell_type": "code",
   "execution_count": 440,
   "metadata": {
    "collapsed": true
   },
   "outputs": [],
   "source": [
    "# df1 =pd.read_csv(\"index.csv\")"
   ]
  },
  {
   "cell_type": "code",
   "execution_count": 662,
   "metadata": {
    "collapsed": false
   },
   "outputs": [],
   "source": [
    "# df1.dtypes"
   ]
  },
  {
   "cell_type": "code",
   "execution_count": 155,
   "metadata": {
    "collapsed": false
   },
   "outputs": [],
   "source": [
    "# # Clean page text to find only the rows corresponding to be data on rice (poor HTML formatting)\n",
    "# \"\"\"ADD IN A FOR LOOP TO ITERATE THROUGH THIS ISH\"\"\"\n",
    "# d_= pq(basicinfo.text)\n",
    "# d_rows = pq(d_('tr')[4:])\n",
    "# d_rows = pq(d_rows[:(len(d_rows)-1)])"
   ]
  },
  {
   "cell_type": "code",
   "execution_count": 156,
   "metadata": {
    "collapsed": false
   },
   "outputs": [],
   "source": [
    "# # Start by creating an empty list.\n",
    "# ricestrains=[]\n",
    "# fields=['strain_id', 'species_name', 'variety_name', 'previous_name', \n",
    "#         'pedigree', 'collection_number', 'acc_id_seq_num', 'acc_id_seed_donor_number',\n",
    "#         'source_country', 'donor_country', 'acc_date', 'status', 'cultural_type',\n",
    "#         'special_traits', 'fao_in_trust', 'multilateral_system']\n",
    "\n",
    "# # Iterate over the elements of d_rows. In this case \"r\" will\n",
    "# # receive each value from \"d_rows\" in turn.\n",
    "# for r in d_rows:\n",
    "#     # Extract the \"td\" element from the current value of r.\n",
    "#     d_td=pq(r)('td')\n",
    "    \n",
    "#     strain_id =  int(pq(d_td[0]).text())\n",
    "#     species_name = pq(d_td[1]).text()\n",
    "#     variety_name = pq(d_td[2]).text()\n",
    "#     previous_name = pq(d_td[3]).text()\n",
    "#     pedigree = pq(d_td[4]).text()\n",
    "#     collection_num = pq(d_td[5]).text()\n",
    "#     acc_id_seq_num = pq(d_td[6]).text()\n",
    "#     acc_id_seed_don_num = pq(d_td[7]).text()\n",
    "#     source_country = pq(d_td[8]).text()\n",
    "#     donor_country = pq(d_td[9]).text()\n",
    "#     acc_date = pq(d_td[10]).text()\n",
    "#     status = pq(d_td[11]).text()\n",
    "#     cultural_type = pq(d_td[12]).text()\n",
    "#     special_traits = pq(d_td[13]).text()\n",
    "#     fao_in_trust = pq(d_td[14]).text()\n",
    "#     multi_later_sys = pq(d_td[15]).text()\n",
    "    \n",
    "#     a = [strain_id, species_name, variety_name, previous_name,\n",
    "#          pedigree, collection_num, acc_id_seq_num, acc_id_seed_don_num,\n",
    "#          source_country, donor_country, acc_date, status, cultural_type,\n",
    "#          special_traits, fao_in_trust, multi_later_sys]\n",
    "    \n",
    "#     ricedict = dict(zip(fields,a))\n",
    "    \n",
    "#     ricestrains.append(ricedict)"
   ]
  },
  {
   "cell_type": "code",
   "execution_count": 663,
   "metadata": {
    "collapsed": false
   },
   "outputs": [],
   "source": [
    "# len(ricestrains)"
   ]
  },
  {
   "cell_type": "code",
   "execution_count": 664,
   "metadata": {
    "collapsed": false
   },
   "outputs": [],
   "source": [
    "# # tempdf=pd.DataFrame(ricestrains)\n",
    "# # tempdf.to_pickle(\"firstpass\")\n",
    "# basicinfo333 = pd.read_pickle('basicinfo')\n",
    "# basicinfo333.shape"
   ]
  },
  {
   "cell_type": "code",
   "execution_count": 658,
   "metadata": {
    "collapsed": false
   },
   "outputs": [],
   "source": [
    "# d_= pq(allinfo.text)\n",
    "# d_rows = pq(d_('tr')[4:])\n",
    "# d_rows = pq(d_rows[:(len(d_rows)-1)])\n",
    "\n",
    "# print d_rows"
   ]
  },
  {
   "cell_type": "code",
   "execution_count": 157,
   "metadata": {
    "collapsed": false
   },
   "outputs": [],
   "source": [
    "# def dict_builder(rows,query):\n",
    "    \n",
    "#     ricestrains=[]\n",
    "#     for r in rows:\n",
    "#         # Extract the \"td\" element from the current value of r.\n",
    "#         d_td=pq(r)('td')\n",
    "\n",
    "#         a = [pq(d_td[i]).text() for i in range(0,len(pq(d_td)))]\n",
    "\n",
    "#         if query == 'basicinfo':\n",
    "#             fields=['strain_id', 'species_name', 'variety_name', 'previous_name', \n",
    "#                     'pedigree', 'collection_number', 'acc_id_seq_num', 'acc_id_seed_donor_number',\n",
    "#                     'source_country', 'donor_country', 'acc_date', 'status', 'cultural_type',\n",
    "#                     'special_traits', 'fao_in_trust', 'multilateral_system']\n",
    "#         elif query == 'allinfo':\n",
    "#             fields=['strain_id', 'species_name', 'variety_name', 'previous_name', \n",
    "#                     'pedigree', 'collection_number', 'acc_id_seed_donor_number',\n",
    "#                     'source_country', 'cultural_type','days_to_mat', 'grain_len',\n",
    "#                     'grain_wid', 'varietal_group', 'endosperm_type', 'endosperm_color',\n",
    "#                     'seed_coat_color', 'rice_blast', 'bacterial_blight', 'sheath_blight']\n",
    "#         elif query == 'locationinfo':\n",
    "#             fields=['strain_id', 'species_name', 'variety_name', 'province',\n",
    "#                     'district', 'town', 'village', 'latitude', 'longitude', 'altitude']\n",
    "#         elif query == 'morphoveginfo':\n",
    "#             fields=['strain_id', 'subpopulation', 'species_name', 'variety_name', \n",
    "#                     'source_country', 'blade_pub', 'blade_color', 'basal_color', 'ligule_shape',\n",
    "#                     'leaf_texture', 'leaf_angle', 'seedling_height', 'ligule_color', \n",
    "#                     'collar_color', 'auricle_color']\n",
    "#         elif query == 'morphoreproinfo':\n",
    "#             fields=['strain_id', 'subpopulation', 'species_name', 'variety_name', \n",
    "#                     'source_country', 'culm_angle', 'node_color', 'internode_color', \n",
    "#                     'internode_color', 'culm_strength', 'flat_leaf_angle', 'flag_leaf_angle',\n",
    "#                     'panicle', 'secondary_branching', 'panicle_exerion', 'panicle_axis',\n",
    "#                     'awn_presence', 'awn_color', 'apiculus_color', 'stigma_color', 'lemma_color',\n",
    "#                     'leaf_length', 'leaf_width', 'culm_length', 'culm_num', 'culm_diam', \n",
    "#                     'days_to_head', 'variety_group_from_morph', 'days_to_flower', 'lingule_pub',\n",
    "#                     'lemma_color_at_anthesis', 'internode_color','culm_strength_cult']\n",
    "#         elif query == 'morphoharvestinfo':\n",
    "#             fields=['strain_id', 'species_name', 'variety_name', 'source_country', \n",
    "#                     'days_to_maturity', 'panicle_shattering', 'leaf_senescence', 'spikelet_fertility',\n",
    "#                     'panicle_thesability', 'apiculus_color_post_harv', 'lemma_and_palea_color',\n",
    "#                     'lemma_and_palea_pub', 'seat_coat_color']\n",
    "#         elif query == 'diseasereactioninfo':\n",
    "#             fields=['strain_id', 'species_name', 'variety_name', 'source_country', \n",
    "#                     'blast', 'bacterial_blight', 'sheath_blight', 'tungro_virus']\n",
    "#         elif query == 'envreactioninfo':\n",
    "#             fields=['strain_id', 'species_name', 'variety_name', 'source_country', \n",
    "#                     'alkali_tolerance', 'cold_tolerance', 'drought_1', 'drought_2',\n",
    "#                     'drought_3', 'drought_4', 'drought_5', 'drought_6', 'drought_7',\n",
    "#                     'drought_8', 'drought_9', 'elogation', 'flood_tolerance', \n",
    "#                     'salt_tolerance', 'zinc_def_1', 'zinc_def_1']\n",
    "#         ricedict = dict(zip(fields,a))\n",
    "#         ricestrains.append(ricedict)\n",
    "    \n",
    "#     return ricestrains"
   ]
  },
  {
   "cell_type": "code",
   "execution_count": 659,
   "metadata": {
    "collapsed": false
   },
   "outputs": [],
   "source": [
    "# strain = dict_builder(d_rows, 'allinfo')\n",
    "# tempdf2=pd.DataFrame(strain)\n",
    "# tempdf2.head()"
   ]
  },
  {
   "cell_type": "code",
   "execution_count": 1,
   "metadata": {
    "collapsed": false
   },
   "outputs": [
    {
     "data": {
      "text/html": [
       "\n",
       "                <audio controls=\"controls\" autoplay=\"autoplay\">\n",
       "                    <source src=\"http://sfxcontent.s3.amazonaws.com/soundfx/EmergencyAlertSystemBeep.mp3\" type=\"audio/mpeg\" />\n",
       "                    Your browser does not support the audio element.\n",
       "                </audio>\n",
       "              "
      ],
      "text/plain": [
       "<IPython.lib.display.Audio object>"
      ]
     },
     "execution_count": 1,
     "metadata": {},
     "output_type": "execute_result"
    }
   ],
   "source": [
    "# FUN SOUND BIT\n",
    "from IPython.display import Audio\n",
    "sound_file = 'http://sfxcontent.s3.amazonaws.com/soundfx/EmergencyAlertSystemBeep.mp3'\n",
    "Audio(url=sound_file, autoplay=True)"
   ]
  },
  {
   "cell_type": "code",
   "execution_count": 83,
   "metadata": {
    "collapsed": true
   },
   "outputs": [],
   "source": [
    "# # We'll just reuse the request object that was previously created to create a BeautifulSoup element.\n",
    "# # The latter will be the equivalent of the \"d_\" object we created before.\n",
    "# soup = BeautifulSoup(take1.text, \"html.parser\")\n",
    "\n",
    "# # # In this line we are looking for a single \"table\" element with a class of wikitable;\n",
    "# # # and then looking for all the \"tr\" elements on that table (notice the find vs find_all calls).\n",
    "# # # Even though the syntax is very different from PyQuery, the end result is similar.\n",
    "# rows = soup.find(\"table\").find_all(\"tr\")\n",
    "\n",
    "# # # We then define an anonymous (lambda) function whose job it is to act on\n",
    "# # #each column's element in each row in the table. Lambda functions are very\n",
    "# # # handy for functional programming, and the one below should be easy to follow.\n",
    "# # # The function processes each field of the parameter r accordingly. It starts by\n",
    "# # # transforming the first column into an integer; it then proceeds to getting the text\n",
    "# # # from the second and third elements, and finally it gets the HTTP link of the third\n",
    "# # # element, and returns all that in a list (notice the surrounding brackets).\n",
    "# # # The function is then bound to the cleaner variable so it can be referenced later.\n",
    "# # cleaner = lambda r: [int(r[0].get_text()), r[1].get_text(), r[2].get_text(), r[2].find(\"a\").get(\"href\")]\n",
    "\n",
    "# # #lambda functions are also excellent for defining one line math functions.\n",
    "# # #e.g. radius = lambda x,y: np.sqrt(x*x + y*y)\n",
    "\n",
    "# # # Next we'll create a list of names that will be used as dictionary keys.\n",
    "# # fields = [\"ranking\", \"title\", \"band_singer\", \"url\"]\n",
    "\n",
    "# # # We now use the lambda function to process each \"td\" element on a given row.\n",
    "# # # the [... for ... in ...] construct is a list comprehension. They look weird at\n",
    "# # # first but are amazingly useful and worth spending some time to learn.\n",
    "# # # At a high level, thing of it as a one line \"for loop\" that aggregates the result\n",
    "# # # of each iteration into a list. So once this line finished running, we will have a list\n",
    "# # # of something.\n",
    "# # #\n",
    "# # # The dict function is another way to create a dictionary. One neat thing about it\n",
    "# # # is that it accepts a list of key/value pairs that will be used to create said dictionary.\n",
    "# # #\n",
    "# # # But where are these key/value pairs coming from in here? From the zip function!\n",
    "# # # The zip function will take multiple iterables (things that can be treated as a sequence)\n",
    "# # # and combine them. An example might make it clearer:\n",
    "# # #\n",
    "# # # zip([\"a\", \"b\", \"c\"], [1, 2, 3]) evaluates to [(\"a\", 1), (\"b\", 2), (\"c\", 3)]. It's like a zipper!!!\n",
    "# # #\n",
    "# # # Anyway, never mind the parenthesis around the pairs; they just show that the elements\n",
    "# # # are grouped into tuples, which you can think of as lists that are immutable (they can't grow or shrink).\n",
    "# # #\n",
    "# # # So to recap: the zip function creates a list of pairs; which the dict function then uses\n",
    "# # # to create a dictionary, using the first element of the pair as the key and the second as\n",
    "# # # the value; and finally, the list comprehension iterates over each row element, and puts\n",
    "# # # the result of each iteration on a list, which is then bound to the songs variable.\n",
    "# # songs = [dict(zip(fields, cleaner(row.find_all(\"td\")))) for row in rows]"
   ]
  },
  {
   "cell_type": "code",
   "execution_count": 29,
   "metadata": {
    "collapsed": false
   },
   "outputs": [
    {
     "data": {
      "text/plain": [
       "3"
      ]
     },
     "execution_count": 29,
     "metadata": {},
     "output_type": "execute_result"
    }
   ],
   "source": []
  },
  {
   "cell_type": "code",
   "execution_count": 7,
   "metadata": {
    "collapsed": false
   },
   "outputs": [
    {
     "data": {
      "text/plain": [
       "[{'band_singer': 'The Guess Who',\n",
       "  'ranking': 3,\n",
       "  'title': 'American Woman',\n",
       "  'url': '/wiki/The_Guess_Who'},\n",
       " {'band_singer': 'B.J. Thomas',\n",
       "  'ranking': 4,\n",
       "  'title': \"Raindrops Keep Fallin' on My Head\",\n",
       "  'url': '/wiki/B.J._Thomas'}]"
      ]
     },
     "execution_count": 7,
     "metadata": {},
     "output_type": "execute_result"
    }
   ],
   "source": []
  },
  {
   "cell_type": "code",
   "execution_count": 6,
   "metadata": {
    "collapsed": false
   },
   "outputs": [
    {
     "ename": "IOError",
     "evalue": "File /data/merged_dataframe_updated.csv does not exist",
     "output_type": "error",
     "traceback": [
      "\u001b[0;31m---------------------------------------------------------------------------\u001b[0m",
      "\u001b[0;31mIOError\u001b[0m                                   Traceback (most recent call last)",
      "\u001b[0;32m<ipython-input-6-ab099476e81c>\u001b[0m in \u001b[0;36m<module>\u001b[0;34m()\u001b[0m\n\u001b[0;32m----> 1\u001b[0;31m \u001b[0meda_df\u001b[0m \u001b[0;34m=\u001b[0m \u001b[0mpd\u001b[0m\u001b[0;34m.\u001b[0m\u001b[0mread_csv\u001b[0m\u001b[0;34m(\u001b[0m\u001b[0;34m'/data/merged_dataframe_updated.csv'\u001b[0m\u001b[0;34m)\u001b[0m\u001b[0;34m\u001b[0m\u001b[0m\n\u001b[0m\u001b[1;32m      2\u001b[0m \u001b[0mcolumns_df\u001b[0m \u001b[0;34m=\u001b[0m \u001b[0mpd\u001b[0m\u001b[0;34m.\u001b[0m\u001b[0mread_csv\u001b[0m\u001b[0;34m(\u001b[0m\u001b[0;34m'/data/all_info_combined.csv'\u001b[0m\u001b[0;34m)\u001b[0m\u001b[0;34m\u001b[0m\u001b[0m\n",
      "\u001b[0;32m//anaconda/lib/python2.7/site-packages/pandas/io/parsers.pyc\u001b[0m in \u001b[0;36mparser_f\u001b[0;34m(filepath_or_buffer, sep, dialect, compression, doublequote, escapechar, quotechar, quoting, skipinitialspace, lineterminator, header, index_col, names, prefix, skiprows, skipfooter, skip_footer, na_values, na_fvalues, true_values, false_values, delimiter, converters, dtype, usecols, engine, delim_whitespace, as_recarray, na_filter, compact_ints, use_unsigned, low_memory, buffer_lines, warn_bad_lines, error_bad_lines, keep_default_na, thousands, comment, decimal, parse_dates, keep_date_col, dayfirst, date_parser, memory_map, float_precision, nrows, iterator, chunksize, verbose, encoding, squeeze, mangle_dupe_cols, tupleize_cols, infer_datetime_format, skip_blank_lines)\u001b[0m\n\u001b[1;32m    472\u001b[0m                     skip_blank_lines=skip_blank_lines)\n\u001b[1;32m    473\u001b[0m \u001b[0;34m\u001b[0m\u001b[0m\n\u001b[0;32m--> 474\u001b[0;31m         \u001b[0;32mreturn\u001b[0m \u001b[0m_read\u001b[0m\u001b[0;34m(\u001b[0m\u001b[0mfilepath_or_buffer\u001b[0m\u001b[0;34m,\u001b[0m \u001b[0mkwds\u001b[0m\u001b[0;34m)\u001b[0m\u001b[0;34m\u001b[0m\u001b[0m\n\u001b[0m\u001b[1;32m    475\u001b[0m \u001b[0;34m\u001b[0m\u001b[0m\n\u001b[1;32m    476\u001b[0m     \u001b[0mparser_f\u001b[0m\u001b[0;34m.\u001b[0m\u001b[0m__name__\u001b[0m \u001b[0;34m=\u001b[0m \u001b[0mname\u001b[0m\u001b[0;34m\u001b[0m\u001b[0m\n",
      "\u001b[0;32m//anaconda/lib/python2.7/site-packages/pandas/io/parsers.pyc\u001b[0m in \u001b[0;36m_read\u001b[0;34m(filepath_or_buffer, kwds)\u001b[0m\n\u001b[1;32m    248\u001b[0m \u001b[0;34m\u001b[0m\u001b[0m\n\u001b[1;32m    249\u001b[0m     \u001b[0;31m# Create the parser.\u001b[0m\u001b[0;34m\u001b[0m\u001b[0;34m\u001b[0m\u001b[0m\n\u001b[0;32m--> 250\u001b[0;31m     \u001b[0mparser\u001b[0m \u001b[0;34m=\u001b[0m \u001b[0mTextFileReader\u001b[0m\u001b[0;34m(\u001b[0m\u001b[0mfilepath_or_buffer\u001b[0m\u001b[0;34m,\u001b[0m \u001b[0;34m**\u001b[0m\u001b[0mkwds\u001b[0m\u001b[0;34m)\u001b[0m\u001b[0;34m\u001b[0m\u001b[0m\n\u001b[0m\u001b[1;32m    251\u001b[0m \u001b[0;34m\u001b[0m\u001b[0m\n\u001b[1;32m    252\u001b[0m     \u001b[0;32mif\u001b[0m \u001b[0;34m(\u001b[0m\u001b[0mnrows\u001b[0m \u001b[0;32mis\u001b[0m \u001b[0;32mnot\u001b[0m \u001b[0mNone\u001b[0m\u001b[0;34m)\u001b[0m \u001b[0;32mand\u001b[0m \u001b[0;34m(\u001b[0m\u001b[0mchunksize\u001b[0m \u001b[0;32mis\u001b[0m \u001b[0;32mnot\u001b[0m \u001b[0mNone\u001b[0m\u001b[0;34m)\u001b[0m\u001b[0;34m:\u001b[0m\u001b[0;34m\u001b[0m\u001b[0m\n",
      "\u001b[0;32m//anaconda/lib/python2.7/site-packages/pandas/io/parsers.pyc\u001b[0m in \u001b[0;36m__init__\u001b[0;34m(self, f, engine, **kwds)\u001b[0m\n\u001b[1;32m    564\u001b[0m             \u001b[0mself\u001b[0m\u001b[0;34m.\u001b[0m\u001b[0moptions\u001b[0m\u001b[0;34m[\u001b[0m\u001b[0;34m'has_index_names'\u001b[0m\u001b[0;34m]\u001b[0m \u001b[0;34m=\u001b[0m \u001b[0mkwds\u001b[0m\u001b[0;34m[\u001b[0m\u001b[0;34m'has_index_names'\u001b[0m\u001b[0;34m]\u001b[0m\u001b[0;34m\u001b[0m\u001b[0m\n\u001b[1;32m    565\u001b[0m \u001b[0;34m\u001b[0m\u001b[0m\n\u001b[0;32m--> 566\u001b[0;31m         \u001b[0mself\u001b[0m\u001b[0;34m.\u001b[0m\u001b[0m_make_engine\u001b[0m\u001b[0;34m(\u001b[0m\u001b[0mself\u001b[0m\u001b[0;34m.\u001b[0m\u001b[0mengine\u001b[0m\u001b[0;34m)\u001b[0m\u001b[0;34m\u001b[0m\u001b[0m\n\u001b[0m\u001b[1;32m    567\u001b[0m \u001b[0;34m\u001b[0m\u001b[0m\n\u001b[1;32m    568\u001b[0m     \u001b[0;32mdef\u001b[0m \u001b[0m_get_options_with_defaults\u001b[0m\u001b[0;34m(\u001b[0m\u001b[0mself\u001b[0m\u001b[0;34m,\u001b[0m \u001b[0mengine\u001b[0m\u001b[0;34m)\u001b[0m\u001b[0;34m:\u001b[0m\u001b[0;34m\u001b[0m\u001b[0m\n",
      "\u001b[0;32m//anaconda/lib/python2.7/site-packages/pandas/io/parsers.pyc\u001b[0m in \u001b[0;36m_make_engine\u001b[0;34m(self, engine)\u001b[0m\n\u001b[1;32m    703\u001b[0m     \u001b[0;32mdef\u001b[0m \u001b[0m_make_engine\u001b[0m\u001b[0;34m(\u001b[0m\u001b[0mself\u001b[0m\u001b[0;34m,\u001b[0m \u001b[0mengine\u001b[0m\u001b[0;34m=\u001b[0m\u001b[0;34m'c'\u001b[0m\u001b[0;34m)\u001b[0m\u001b[0;34m:\u001b[0m\u001b[0;34m\u001b[0m\u001b[0m\n\u001b[1;32m    704\u001b[0m         \u001b[0;32mif\u001b[0m \u001b[0mengine\u001b[0m \u001b[0;34m==\u001b[0m \u001b[0;34m'c'\u001b[0m\u001b[0;34m:\u001b[0m\u001b[0;34m\u001b[0m\u001b[0m\n\u001b[0;32m--> 705\u001b[0;31m             \u001b[0mself\u001b[0m\u001b[0;34m.\u001b[0m\u001b[0m_engine\u001b[0m \u001b[0;34m=\u001b[0m \u001b[0mCParserWrapper\u001b[0m\u001b[0;34m(\u001b[0m\u001b[0mself\u001b[0m\u001b[0;34m.\u001b[0m\u001b[0mf\u001b[0m\u001b[0;34m,\u001b[0m \u001b[0;34m**\u001b[0m\u001b[0mself\u001b[0m\u001b[0;34m.\u001b[0m\u001b[0moptions\u001b[0m\u001b[0;34m)\u001b[0m\u001b[0;34m\u001b[0m\u001b[0m\n\u001b[0m\u001b[1;32m    706\u001b[0m         \u001b[0;32melse\u001b[0m\u001b[0;34m:\u001b[0m\u001b[0;34m\u001b[0m\u001b[0m\n\u001b[1;32m    707\u001b[0m             \u001b[0;32mif\u001b[0m \u001b[0mengine\u001b[0m \u001b[0;34m==\u001b[0m \u001b[0;34m'python'\u001b[0m\u001b[0;34m:\u001b[0m\u001b[0;34m\u001b[0m\u001b[0m\n",
      "\u001b[0;32m//anaconda/lib/python2.7/site-packages/pandas/io/parsers.pyc\u001b[0m in \u001b[0;36m__init__\u001b[0;34m(self, src, **kwds)\u001b[0m\n\u001b[1;32m   1070\u001b[0m         \u001b[0mkwds\u001b[0m\u001b[0;34m[\u001b[0m\u001b[0;34m'allow_leading_cols'\u001b[0m\u001b[0;34m]\u001b[0m \u001b[0;34m=\u001b[0m \u001b[0mself\u001b[0m\u001b[0;34m.\u001b[0m\u001b[0mindex_col\u001b[0m \u001b[0;32mis\u001b[0m \u001b[0;32mnot\u001b[0m \u001b[0mFalse\u001b[0m\u001b[0;34m\u001b[0m\u001b[0m\n\u001b[1;32m   1071\u001b[0m \u001b[0;34m\u001b[0m\u001b[0m\n\u001b[0;32m-> 1072\u001b[0;31m         \u001b[0mself\u001b[0m\u001b[0;34m.\u001b[0m\u001b[0m_reader\u001b[0m \u001b[0;34m=\u001b[0m \u001b[0m_parser\u001b[0m\u001b[0;34m.\u001b[0m\u001b[0mTextReader\u001b[0m\u001b[0;34m(\u001b[0m\u001b[0msrc\u001b[0m\u001b[0;34m,\u001b[0m \u001b[0;34m**\u001b[0m\u001b[0mkwds\u001b[0m\u001b[0;34m)\u001b[0m\u001b[0;34m\u001b[0m\u001b[0m\n\u001b[0m\u001b[1;32m   1073\u001b[0m \u001b[0;34m\u001b[0m\u001b[0m\n\u001b[1;32m   1074\u001b[0m         \u001b[0;31m# XXX\u001b[0m\u001b[0;34m\u001b[0m\u001b[0;34m\u001b[0m\u001b[0m\n",
      "\u001b[0;32mpandas/parser.pyx\u001b[0m in \u001b[0;36mpandas.parser.TextReader.__cinit__ (pandas/parser.c:3173)\u001b[0;34m()\u001b[0m\n",
      "\u001b[0;32mpandas/parser.pyx\u001b[0m in \u001b[0;36mpandas.parser.TextReader._setup_parser_source (pandas/parser.c:5912)\u001b[0;34m()\u001b[0m\n",
      "\u001b[0;31mIOError\u001b[0m: File /data/merged_dataframe_updated.csv does not exist"
     ]
    }
   ],
   "source": [
    "eda_df = pd.read_csv('/data/merged_dataframe_updated.csv')\n",
    "columns_df = pd.read_csv('/data/all_info_combined.csv')"
   ]
  },
  {
   "cell_type": "code",
   "execution_count": 12,
   "metadata": {
    "collapsed": false
   },
   "outputs": [
    {
     "name": "stdout",
     "output_type": "stream",
     "text": [
      "85\n"
     ]
    },
    {
     "name": "stderr",
     "output_type": "stream",
     "text": [
      "//anaconda/lib/python2.7/site-packages/pandas/io/parsers.py:1170: DtypeWarning: Columns (92) have mixed types. Specify dtype option on import or set low_memory=False.\n",
      "  data = self._reader.read(nrows)\n"
     ]
    },
    {
     "data": {
      "text/html": [
       "<div>\n",
       "<table border=\"1\" class=\"dataframe\">\n",
       "  <thead>\n",
       "    <tr style=\"text-align: right;\">\n",
       "      <th></th>\n",
       "      <th>alkali_tolerance</th>\n",
       "      <th>apiculus_color</th>\n",
       "      <th>apiculus_color_post_harv</th>\n",
       "      <th>auricle_color</th>\n",
       "      <th>awn_color</th>\n",
       "      <th>awn_presence</th>\n",
       "      <th>bacterial_blight</th>\n",
       "      <th>basal_color</th>\n",
       "      <th>blade_color</th>\n",
       "      <th>blade_pub</th>\n",
       "      <th>blast</th>\n",
       "      <th>cold_tolerance</th>\n",
       "      <th>collar_color</th>\n",
       "      <th>culm_angle</th>\n",
       "      <th>culm_diam</th>\n",
       "      <th>culm_length</th>\n",
       "      <th>culm_num</th>\n",
       "      <th>culm_strength</th>\n",
       "      <th>cultural_type</th>\n",
       "      <th>days_to_flower</th>\n",
       "      <th>days_to_mat</th>\n",
       "      <th>days_to_maturity</th>\n",
       "      <th>district</th>\n",
       "      <th>donor_country</th>\n",
       "      <th>drought_1</th>\n",
       "      <th>drought_2</th>\n",
       "      <th>drought_3</th>\n",
       "      <th>drought_4</th>\n",
       "      <th>drought_5</th>\n",
       "      <th>drought_6</th>\n",
       "      <th>drought_7</th>\n",
       "      <th>drought_8</th>\n",
       "      <th>drought_9</th>\n",
       "      <th>elogation</th>\n",
       "      <th>endosperm_color</th>\n",
       "      <th>endosperm_type</th>\n",
       "      <th>fao_in_trust</th>\n",
       "      <th>flag_leaf_angle</th>\n",
       "      <th>flat_leaf_angle</th>\n",
       "      <th>flood_tolerance</th>\n",
       "      <th>grain_len</th>\n",
       "      <th>grain_wid</th>\n",
       "      <th>internode_color</th>\n",
       "      <th>latitude</th>\n",
       "      <th>leaf_angle</th>\n",
       "      <th>leaf_length</th>\n",
       "      <th>leaf_senescence</th>\n",
       "      <th>leaf_width</th>\n",
       "      <th>lemma_and_palea_color</th>\n",
       "      <th>lemma_and_palea_pub</th>\n",
       "      <th>lemma_color</th>\n",
       "      <th>lemma_color_at_anthesis</th>\n",
       "      <th>ligule_color</th>\n",
       "      <th>ligule_shape</th>\n",
       "      <th>lingule_pub</th>\n",
       "      <th>longitude</th>\n",
       "      <th>multilateral_system</th>\n",
       "      <th>node_color</th>\n",
       "      <th>panicle</th>\n",
       "      <th>panicle_axis</th>\n",
       "      <th>panicle_exerion</th>\n",
       "      <th>panicle_shattering</th>\n",
       "      <th>panicle_thesability</th>\n",
       "      <th>pedigree</th>\n",
       "      <th>previous_name</th>\n",
       "      <th>province</th>\n",
       "      <th>rice_blast</th>\n",
       "      <th>salt_tolerance</th>\n",
       "      <th>seat_coat_color</th>\n",
       "      <th>secondary_branching</th>\n",
       "      <th>seed_coat_color</th>\n",
       "      <th>seedling_height</th>\n",
       "      <th>sheath_blight</th>\n",
       "      <th>source_country</th>\n",
       "      <th>special_traits</th>\n",
       "      <th>species_name</th>\n",
       "      <th>spikelet_fertility</th>\n",
       "      <th>status</th>\n",
       "      <th>stigma_color</th>\n",
       "      <th>subpopulation</th>\n",
       "      <th>town</th>\n",
       "      <th>tungro_virus</th>\n",
       "      <th>varietal_group</th>\n",
       "      <th>village</th>\n",
       "      <th>zinc_def_1</th>\n",
       "    </tr>\n",
       "  </thead>\n",
       "  <tbody>\n",
       "    <tr>\n",
       "      <th>0</th>\n",
       "      <td>X</td>\n",
       "      <td>X</td>\n",
       "      <td>X</td>\n",
       "      <td>Light green</td>\n",
       "      <td>010</td>\n",
       "      <td>070</td>\n",
       "      <td>NaN</td>\n",
       "      <td>Green</td>\n",
       "      <td>Green</td>\n",
       "      <td>Pubescent</td>\n",
       "      <td>Susceptible</td>\n",
       "      <td>X</td>\n",
       "      <td>Green</td>\n",
       "      <td>Erect (1)</td>\n",
       "      <td>1</td>\n",
       "      <td>1</td>\n",
       "      <td>80</td>\n",
       "      <td>1</td>\n",
       "      <td>NaN</td>\n",
       "      <td>X</td>\n",
       "      <td>110</td>\n",
       "      <td>110</td>\n",
       "      <td>NaN</td>\n",
       "      <td>UNITED STATES</td>\n",
       "      <td>5</td>\n",
       "      <td>3</td>\n",
       "      <td>X</td>\n",
       "      <td>5</td>\n",
       "      <td>X</td>\n",
       "      <td>9</td>\n",
       "      <td>X</td>\n",
       "      <td>X</td>\n",
       "      <td>X</td>\n",
       "      <td>X</td>\n",
       "      <td>White</td>\n",
       "      <td>Non-glutinous(non-waxy)</td>\n",
       "      <td>Yes</td>\n",
       "      <td>X</td>\n",
       "      <td>9</td>\n",
       "      <td>X</td>\n",
       "      <td>9</td>\n",
       "      <td>2</td>\n",
       "      <td>7</td>\n",
       "      <td>33</td>\n",
       "      <td>NaN</td>\n",
       "      <td>71-90 cm</td>\n",
       "      <td>9</td>\n",
       "      <td>2</td>\n",
       "      <td>020</td>\n",
       "      <td>X</td>\n",
       "      <td>1</td>\n",
       "      <td>Weak(most plants nearly flat)</td>\n",
       "      <td>Whitish</td>\n",
       "      <td>NaN</td>\n",
       "      <td>Green</td>\n",
       "      <td>67</td>\n",
       "      <td>Yes</td>\n",
       "      <td>NaN</td>\n",
       "      <td>1</td>\n",
       "      <td>020</td>\n",
       "      <td>1</td>\n",
       "      <td>X</td>\n",
       "      <td>5</td>\n",
       "      <td>NaN</td>\n",
       "      <td>NaN</td>\n",
       "      <td>NaN</td>\n",
       "      <td>NaN</td>\n",
       "      <td>X</td>\n",
       "      <td>010</td>\n",
       "      <td>X</td>\n",
       "      <td>Susceptible</td>\n",
       "      <td>Short (</td>\n",
       "      <td>Moderately resistant</td>\n",
       "      <td>AFGHANISTAN</td>\n",
       "      <td>NaN</td>\n",
       "      <td>O. sativa</td>\n",
       "      <td>7</td>\n",
       "      <td>Landrace/Traditional cultivar</td>\n",
       "      <td>3</td>\n",
       "      <td>A</td>\n",
       "      <td>NaN</td>\n",
       "      <td>0</td>\n",
       "      <td>Indica</td>\n",
       "      <td>NaN</td>\n",
       "      <td>X</td>\n",
       "    </tr>\n",
       "    <tr>\n",
       "      <th>1</th>\n",
       "      <td>X</td>\n",
       "      <td>X</td>\n",
       "      <td>X</td>\n",
       "      <td>Light green</td>\n",
       "      <td>010</td>\n",
       "      <td>010</td>\n",
       "      <td>Susceptible</td>\n",
       "      <td>Green</td>\n",
       "      <td>Green</td>\n",
       "      <td>Pubescent</td>\n",
       "      <td>Resistant</td>\n",
       "      <td>X</td>\n",
       "      <td>Green</td>\n",
       "      <td>Erect (1)</td>\n",
       "      <td>1</td>\n",
       "      <td>2</td>\n",
       "      <td>134</td>\n",
       "      <td>1</td>\n",
       "      <td>NaN</td>\n",
       "      <td>X</td>\n",
       "      <td>164</td>\n",
       "      <td>164</td>\n",
       "      <td>NaN</td>\n",
       "      <td>PHILIPPINES</td>\n",
       "      <td>5</td>\n",
       "      <td>5</td>\n",
       "      <td>X</td>\n",
       "      <td>6</td>\n",
       "      <td>7</td>\n",
       "      <td>X</td>\n",
       "      <td>X</td>\n",
       "      <td>X</td>\n",
       "      <td>X</td>\n",
       "      <td>X</td>\n",
       "      <td>White</td>\n",
       "      <td>Non-glutinous(non-waxy)</td>\n",
       "      <td>Yes</td>\n",
       "      <td>X</td>\n",
       "      <td>9</td>\n",
       "      <td>X</td>\n",
       "      <td>8</td>\n",
       "      <td>2</td>\n",
       "      <td>1</td>\n",
       "      <td>-33</td>\n",
       "      <td>NaN</td>\n",
       "      <td>131-150 cm</td>\n",
       "      <td>9</td>\n",
       "      <td>3</td>\n",
       "      <td>054</td>\n",
       "      <td>X</td>\n",
       "      <td>2</td>\n",
       "      <td>Strong(no lodging)</td>\n",
       "      <td>Whitish</td>\n",
       "      <td>NaN</td>\n",
       "      <td>Green</td>\n",
       "      <td>26</td>\n",
       "      <td>Yes</td>\n",
       "      <td>NaN</td>\n",
       "      <td>1</td>\n",
       "      <td>000</td>\n",
       "      <td>0</td>\n",
       "      <td>X</td>\n",
       "      <td>5</td>\n",
       "      <td>NaN</td>\n",
       "      <td>NaN</td>\n",
       "      <td>NaN</td>\n",
       "      <td>Susceptible</td>\n",
       "      <td>X</td>\n",
       "      <td>010</td>\n",
       "      <td>X</td>\n",
       "      <td>Resistant</td>\n",
       "      <td>Intermediate (30-59 cm)</td>\n",
       "      <td>NaN</td>\n",
       "      <td>AFRICA</td>\n",
       "      <td>NaN</td>\n",
       "      <td>O. sativa</td>\n",
       "      <td>3</td>\n",
       "      <td>NaN</td>\n",
       "      <td>4</td>\n",
       "      <td>A</td>\n",
       "      <td>NaN</td>\n",
       "      <td>93</td>\n",
       "      <td>Indica</td>\n",
       "      <td>NaN</td>\n",
       "      <td>X</td>\n",
       "    </tr>\n",
       "    <tr>\n",
       "      <th>2</th>\n",
       "      <td>X</td>\n",
       "      <td>X</td>\n",
       "      <td>X</td>\n",
       "      <td>Light green</td>\n",
       "      <td>010</td>\n",
       "      <td>010</td>\n",
       "      <td>NaN</td>\n",
       "      <td>Green</td>\n",
       "      <td>Green</td>\n",
       "      <td>Pubescent</td>\n",
       "      <td>Susceptible</td>\n",
       "      <td>X</td>\n",
       "      <td>Green</td>\n",
       "      <td>Erect (1)</td>\n",
       "      <td>1</td>\n",
       "      <td>2</td>\n",
       "      <td>89</td>\n",
       "      <td>1</td>\n",
       "      <td>NaN</td>\n",
       "      <td>X</td>\n",
       "      <td>119</td>\n",
       "      <td>119</td>\n",
       "      <td>NaN</td>\n",
       "      <td>UNITED STATES</td>\n",
       "      <td>1</td>\n",
       "      <td>3</td>\n",
       "      <td>X</td>\n",
       "      <td>5</td>\n",
       "      <td>X</td>\n",
       "      <td>9</td>\n",
       "      <td>X</td>\n",
       "      <td>X</td>\n",
       "      <td>X</td>\n",
       "      <td>X</td>\n",
       "      <td>Red</td>\n",
       "      <td>Non-glutinous(non-waxy)</td>\n",
       "      <td>Yes</td>\n",
       "      <td>X</td>\n",
       "      <td>9</td>\n",
       "      <td>X</td>\n",
       "      <td>8</td>\n",
       "      <td>3</td>\n",
       "      <td>1</td>\n",
       "      <td>-38</td>\n",
       "      <td>NaN</td>\n",
       "      <td>111-130 cm</td>\n",
       "      <td>9</td>\n",
       "      <td>3</td>\n",
       "      <td>020</td>\n",
       "      <td>X</td>\n",
       "      <td>2</td>\n",
       "      <td>Strong(no lodging)</td>\n",
       "      <td>Whitish</td>\n",
       "      <td>NaN</td>\n",
       "      <td>Green</td>\n",
       "      <td>-63</td>\n",
       "      <td>Yes</td>\n",
       "      <td>NaN</td>\n",
       "      <td>1</td>\n",
       "      <td>000</td>\n",
       "      <td>0</td>\n",
       "      <td>X</td>\n",
       "      <td>1</td>\n",
       "      <td>NaN</td>\n",
       "      <td>NaN</td>\n",
       "      <td>NaN</td>\n",
       "      <td>NaN</td>\n",
       "      <td>X</td>\n",
       "      <td>070</td>\n",
       "      <td>X</td>\n",
       "      <td>Susceptible</td>\n",
       "      <td>Short (</td>\n",
       "      <td>NaN</td>\n",
       "      <td>ARGENTINA</td>\n",
       "      <td>NaN</td>\n",
       "      <td>O. sativa</td>\n",
       "      <td>5</td>\n",
       "      <td>Breeding and inbred line</td>\n",
       "      <td>3</td>\n",
       "      <td>A</td>\n",
       "      <td>NaN</td>\n",
       "      <td>0</td>\n",
       "      <td>Indica</td>\n",
       "      <td>NaN</td>\n",
       "      <td>X</td>\n",
       "    </tr>\n",
       "    <tr>\n",
       "      <th>3</th>\n",
       "      <td>X</td>\n",
       "      <td>020</td>\n",
       "      <td>X</td>\n",
       "      <td>Light green</td>\n",
       "      <td>010</td>\n",
       "      <td>020</td>\n",
       "      <td>NaN</td>\n",
       "      <td>Green</td>\n",
       "      <td>Dark green</td>\n",
       "      <td>Pubescent</td>\n",
       "      <td>NaN</td>\n",
       "      <td>X</td>\n",
       "      <td>Light green</td>\n",
       "      <td>Intermediate (3)</td>\n",
       "      <td>1</td>\n",
       "      <td>1</td>\n",
       "      <td>80</td>\n",
       "      <td>5</td>\n",
       "      <td>NaN</td>\n",
       "      <td>X</td>\n",
       "      <td>110</td>\n",
       "      <td>110</td>\n",
       "      <td>NaN</td>\n",
       "      <td>COLOMBIA</td>\n",
       "      <td>X</td>\n",
       "      <td>X</td>\n",
       "      <td>X</td>\n",
       "      <td>X</td>\n",
       "      <td>X</td>\n",
       "      <td>X</td>\n",
       "      <td>5</td>\n",
       "      <td>6</td>\n",
       "      <td>7</td>\n",
       "      <td>X</td>\n",
       "      <td>White</td>\n",
       "      <td>Non-glutinous(non-waxy)</td>\n",
       "      <td>Yes</td>\n",
       "      <td>1</td>\n",
       "      <td>5</td>\n",
       "      <td>X</td>\n",
       "      <td>10</td>\n",
       "      <td>3</td>\n",
       "      <td>3</td>\n",
       "      <td>-38</td>\n",
       "      <td>Intermediate(3)</td>\n",
       "      <td>71-90 cm</td>\n",
       "      <td>1</td>\n",
       "      <td>2</td>\n",
       "      <td>020</td>\n",
       "      <td>5</td>\n",
       "      <td>2</td>\n",
       "      <td>Moderately strong(most plants leaning)</td>\n",
       "      <td>Whitish</td>\n",
       "      <td>2-Cleft</td>\n",
       "      <td>Light gold</td>\n",
       "      <td>-63</td>\n",
       "      <td>Yes</td>\n",
       "      <td>NaN</td>\n",
       "      <td>1</td>\n",
       "      <td>000</td>\n",
       "      <td>0</td>\n",
       "      <td>1</td>\n",
       "      <td>5</td>\n",
       "      <td>NaN</td>\n",
       "      <td>NaN</td>\n",
       "      <td>NaN</td>\n",
       "      <td>NaN</td>\n",
       "      <td>X</td>\n",
       "      <td>010</td>\n",
       "      <td>2</td>\n",
       "      <td>NaN</td>\n",
       "      <td>Short (</td>\n",
       "      <td>NaN</td>\n",
       "      <td>ARGENTINA</td>\n",
       "      <td>NaN</td>\n",
       "      <td>O. sativa</td>\n",
       "      <td>3</td>\n",
       "      <td>NaN</td>\n",
       "      <td>3</td>\n",
       "      <td>A</td>\n",
       "      <td>NaN</td>\n",
       "      <td>0</td>\n",
       "      <td>Indica</td>\n",
       "      <td>NaN</td>\n",
       "      <td>X</td>\n",
       "    </tr>\n",
       "    <tr>\n",
       "      <th>4</th>\n",
       "      <td>X</td>\n",
       "      <td>X</td>\n",
       "      <td>X</td>\n",
       "      <td>Light green</td>\n",
       "      <td>010</td>\n",
       "      <td>010</td>\n",
       "      <td>Susceptible</td>\n",
       "      <td>Green</td>\n",
       "      <td>Green</td>\n",
       "      <td>Pubescent</td>\n",
       "      <td>Moderately resistant</td>\n",
       "      <td>X</td>\n",
       "      <td>Green</td>\n",
       "      <td>Erect (1)</td>\n",
       "      <td>1</td>\n",
       "      <td>1</td>\n",
       "      <td>105</td>\n",
       "      <td>1</td>\n",
       "      <td>NaN</td>\n",
       "      <td>X</td>\n",
       "      <td>135</td>\n",
       "      <td>135</td>\n",
       "      <td>NaN</td>\n",
       "      <td>AUSTRALIA</td>\n",
       "      <td>3</td>\n",
       "      <td>1</td>\n",
       "      <td>3</td>\n",
       "      <td>3</td>\n",
       "      <td>X</td>\n",
       "      <td>9</td>\n",
       "      <td>X</td>\n",
       "      <td>X</td>\n",
       "      <td>X</td>\n",
       "      <td>X</td>\n",
       "      <td>White</td>\n",
       "      <td>Non-glutinous(non-waxy)</td>\n",
       "      <td>Yes</td>\n",
       "      <td>X</td>\n",
       "      <td>1</td>\n",
       "      <td>X</td>\n",
       "      <td>7</td>\n",
       "      <td>3</td>\n",
       "      <td>1</td>\n",
       "      <td>-31</td>\n",
       "      <td>NaN</td>\n",
       "      <td>71-90 cm</td>\n",
       "      <td>9</td>\n",
       "      <td>3</td>\n",
       "      <td>042</td>\n",
       "      <td>X</td>\n",
       "      <td>2</td>\n",
       "      <td>Strong(no lodging)</td>\n",
       "      <td>Whitish</td>\n",
       "      <td>NaN</td>\n",
       "      <td>Green</td>\n",
       "      <td>135</td>\n",
       "      <td>Yes</td>\n",
       "      <td>NaN</td>\n",
       "      <td>1</td>\n",
       "      <td>000</td>\n",
       "      <td>0</td>\n",
       "      <td>X</td>\n",
       "      <td>5</td>\n",
       "      <td>NORIN 20/T.812 1844-B-1-3</td>\n",
       "      <td>NaN</td>\n",
       "      <td>NaN</td>\n",
       "      <td>Susceptible</td>\n",
       "      <td>X</td>\n",
       "      <td>010</td>\n",
       "      <td>X</td>\n",
       "      <td>Moderately resistant</td>\n",
       "      <td>Short (</td>\n",
       "      <td>NaN</td>\n",
       "      <td>AUSTRALIA</td>\n",
       "      <td>NaN</td>\n",
       "      <td>O. sativa</td>\n",
       "      <td>3</td>\n",
       "      <td>Breeding and inbred line</td>\n",
       "      <td>3</td>\n",
       "      <td>A</td>\n",
       "      <td>NaN</td>\n",
       "      <td>0</td>\n",
       "      <td>Indica</td>\n",
       "      <td>NaN</td>\n",
       "      <td>X</td>\n",
       "    </tr>\n",
       "  </tbody>\n",
       "</table>\n",
       "</div>"
      ],
      "text/plain": [
       "  alkali_tolerance apiculus_color apiculus_color_post_harv auricle_color awn_color awn_presence bacterial_blight basal_color blade_color  blade_pub                 blast cold_tolerance collar_color        culm_angle culm_diam culm_length  culm_num culm_strength cultural_type days_to_flower  days_to_mat  days_to_maturity district  donor_country drought_1 drought_2 drought_3 drought_4 drought_5 drought_6 drought_7 drought_8 drought_9 elogation endosperm_color           endosperm_type  \\\n",
       "0                X              X                        X   Light green       010          070              NaN       Green       Green  Pubescent           Susceptible              X        Green         Erect (1)         1           1        80             1           NaN              X          110               110      NaN  UNITED STATES         5         3         X         5         X         9         X         X         X         X           White  Non-glutinous(non-waxy)   \n",
       "1                X              X                        X   Light green       010          010      Susceptible       Green       Green  Pubescent             Resistant              X        Green         Erect (1)         1           2       134             1           NaN              X          164               164      NaN    PHILIPPINES         5         5         X         6         7         X         X         X         X         X           White  Non-glutinous(non-waxy)   \n",
       "2                X              X                        X   Light green       010          010              NaN       Green       Green  Pubescent           Susceptible              X        Green         Erect (1)         1           2        89             1           NaN              X          119               119      NaN  UNITED STATES         1         3         X         5         X         9         X         X         X         X             Red  Non-glutinous(non-waxy)   \n",
       "3                X            020                        X   Light green       010          020              NaN       Green  Dark green  Pubescent                   NaN              X  Light green  Intermediate (3)         1           1        80             5           NaN              X          110               110      NaN       COLOMBIA         X         X         X         X         X         X         5         6         7         X           White  Non-glutinous(non-waxy)   \n",
       "4                X              X                        X   Light green       010          010      Susceptible       Green       Green  Pubescent  Moderately resistant              X        Green         Erect (1)         1           1       105             1           NaN              X          135               135      NaN      AUSTRALIA         3         1         3         3         X         9         X         X         X         X           White  Non-glutinous(non-waxy)   \n",
       "\n",
       "  fao_in_trust flag_leaf_angle flat_leaf_angle flood_tolerance  grain_len  grain_wid internode_color  latitude       leaf_angle leaf_length leaf_senescence leaf_width lemma_and_palea_color lemma_and_palea_pub lemma_color                 lemma_color_at_anthesis ligule_color ligule_shape lingule_pub  longitude multilateral_system node_color panicle panicle_axis panicle_exerion panicle_shattering panicle_thesability                   pedigree previous_name province   rice_blast salt_tolerance  \\\n",
       "0          Yes               X               9               X          9          2               7        33              NaN    71-90 cm               9          2                   020                   X           1           Weak(most plants nearly flat)      Whitish          NaN       Green         67                 Yes        NaN       1          020               1                  X                   5                        NaN           NaN      NaN          NaN              X   \n",
       "1          Yes               X               9               X          8          2               1       -33              NaN  131-150 cm               9          3                   054                   X           2                      Strong(no lodging)      Whitish          NaN       Green         26                 Yes        NaN       1          000               0                  X                   5                        NaN           NaN      NaN  Susceptible              X   \n",
       "2          Yes               X               9               X          8          3               1       -38              NaN  111-130 cm               9          3                   020                   X           2                      Strong(no lodging)      Whitish          NaN       Green        -63                 Yes        NaN       1          000               0                  X                   1                        NaN           NaN      NaN          NaN              X   \n",
       "3          Yes               1               5               X         10          3               3       -38  Intermediate(3)    71-90 cm               1          2                   020                   5           2  Moderately strong(most plants leaning)      Whitish      2-Cleft  Light gold        -63                 Yes        NaN       1          000               0                  1                   5                        NaN           NaN      NaN          NaN              X   \n",
       "4          Yes               X               1               X          7          3               1       -31              NaN    71-90 cm               9          3                   042                   X           2                      Strong(no lodging)      Whitish          NaN       Green        135                 Yes        NaN       1          000               0                  X                   5  NORIN 20/T.812 1844-B-1-3           NaN      NaN  Susceptible              X   \n",
       "\n",
       "  seat_coat_color secondary_branching       seed_coat_color          seedling_height         sheath_blight source_country special_traits species_name spikelet_fertility                         status stigma_color subpopulation town  tungro_virus varietal_group village zinc_def_1  \n",
       "0             010                   X           Susceptible                  Short (  Moderately resistant    AFGHANISTAN            NaN    O. sativa                  7  Landrace/Traditional cultivar            3             A  NaN             0         Indica     NaN          X  \n",
       "1             010                   X             Resistant  Intermediate (30-59 cm)                   NaN         AFRICA            NaN    O. sativa                  3                            NaN            4             A  NaN            93         Indica     NaN          X  \n",
       "2             070                   X           Susceptible                  Short (                   NaN      ARGENTINA            NaN    O. sativa                  5       Breeding and inbred line            3             A  NaN             0         Indica     NaN          X  \n",
       "3             010                   2                   NaN                  Short (                   NaN      ARGENTINA            NaN    O. sativa                  3                            NaN            3             A  NaN             0         Indica     NaN          X  \n",
       "4             010                   X  Moderately resistant                  Short (                   NaN      AUSTRALIA            NaN    O. sativa                  3       Breeding and inbred line            3             A  NaN             0         Indica     NaN          X  "
      ]
     },
     "execution_count": 12,
     "metadata": {},
     "output_type": "execute_result"
    }
   ],
   "source": [
    "eda_df = pd.read_csv('../data/merged_dataframe_updated.csv')\n",
    "columns_df = pd.read_csv('../data/all_info_combined.csv')\n",
    "\n",
    "eda_df = eda_df[list(columns_df.columns)]\n",
    "for col in eda_df.columns:\n",
    "    if 'Unnamed' in col:\n",
    "        del eda_df[col]\n",
    "eda_df = eda_df.drop(['acc_date','acc_id_seed_donor_number','acc_id_seq_num','collection_number','altitude','days_to_head','leaf_texture','variety_name', 'variety_group_from_morph'],1)\n",
    "print len(eda_df.dtypes)\n",
    "\n",
    "eda_df.head()"
   ]
  },
  {
   "cell_type": "code",
   "execution_count": 26,
   "metadata": {
    "collapsed": false
   },
   "outputs": [],
   "source": [
    "# Fullness = % not NAN\n",
    "fullness=[]\n",
    "# Uniqueness = % unique variables w/in variable type\n",
    "uniqueness=[]\n",
    "\n",
    "# Iterate through columns to see what is full / unique\n",
    "for column in eda_df.columns:\n",
    "    values = []\n",
    "    for value in eda_df[column]:\n",
    "        # Checks for NAN values\n",
    "        if value == value:\n",
    "            values.append(value)\n",
    "    fullness.append((column,((float(len(values)))/(float(len(eda_df[column]))))))\n",
    "    uniqueness.append((column,len(np.unique(values))))\n",
    "    \n",
    "# Sort descending    \n",
    "fullness.sort(key=lambda tup: tup[1],reverse=False)\n",
    "uniqueness.sort(key=lambda tup: tup[1],reverse=True)"
   ]
  },
  {
   "cell_type": "code",
   "execution_count": 27,
   "metadata": {
    "collapsed": false
   },
   "outputs": [],
   "source": [
    "x,y = zip(*fullness)"
   ]
  },
  {
   "cell_type": "code",
   "execution_count": 41,
   "metadata": {
    "collapsed": false
   },
   "outputs": [
    {
     "data": {
      "text/plain": [
       "(array([  3.,   2.,   3.,   3.,   0.,   3.,   3.,   0.,   0.,  68.]),\n",
       " array([ 0.01278228,  0.11150405,  0.21022582,  0.30894759,  0.40766937,\n",
       "         0.50639114,  0.60511291,  0.70383468,  0.80255646,  0.90127823,  1.        ]),\n",
       " <a list of 10 Patch objects>)"
      ]
     },
     "execution_count": 41,
     "metadata": {},
     "output_type": "execute_result"
    },
    {
     "data": {
      "image/png": "[encoded data removed]",
      "text/plain": [
       "<matplotlib.figure.Figure at 0x10cf99a90>"
      ]
     },
     "metadata": {},
     "output_type": "display_data"
    }
   ],
   "source": [
    "plt.hist(y)"
   ]
  },
  {
   "cell_type": "code",
   "execution_count": 141,
   "metadata": {
    "collapsed": false
   },
   "outputs": [
    {
     "data": {
      "image/png": "[encoded data removed]",
      "text/plain": [
       "<matplotlib.figure.Figure at 0x1185b4590>"
      ]
     },
     "metadata": {},
     "output_type": "display_data"
    }
   ],
   "source": [
    "plt.bar(xrange(0,20),y[:20])\n",
    "plt.xticks(xrange(0,20),(x[:20]),rotation='vertical',);\n",
    "plt.subplots_adjust(bottom=0.5)"
   ]
  },
  {
   "cell_type": "code",
   "execution_count": 128,
   "metadata": {
    "collapsed": false
   },
   "outputs": [
    {
     "data": {
      "text/plain": [
       "0         0\n",
       "1        93\n",
       "2         0\n",
       "3         0\n",
       "4         0\n",
       "5         0\n",
       "6        72\n",
       "7        90\n",
       "8         0\n",
       "9        81\n",
       "10       69\n",
       "11       50\n",
       "12       77\n",
       "13       50\n",
       "14       84\n",
       "15       54\n",
       "16       70\n",
       "17       53\n",
       "18       45\n",
       "19       86\n",
       "20       58\n",
       "21       94\n",
       "22       51\n",
       "23       79\n",
       "24       69\n",
       "25      100\n",
       "26       87\n",
       "27       88\n",
       "28       85\n",
       "29       71\n",
       "       ... \n",
       "2317      0\n",
       "2318      0\n",
       "2319      0\n",
       "2320      0\n",
       "2321     45\n",
       "2322     71\n",
       "2323     96\n",
       "2324     80\n",
       "2325      0\n",
       "2326      0\n",
       "2327      0\n",
       "2328      0\n",
       "2329      0\n",
       "2330      0\n",
       "2331      0\n",
       "2332      0\n",
       "2333      0\n",
       "2334     41\n",
       "2335      0\n",
       "2336      0\n",
       "2337      0\n",
       "2338      0\n",
       "2339      0\n",
       "2340      0\n",
       "2341      0\n",
       "2342      0\n",
       "2343      0\n",
       "2344      0\n",
       "2345      0\n",
       "2346      0\n",
       "Name: tungro_virus, dtype: int64"
      ]
     },
     "execution_count": 128,
     "metadata": {},
     "output_type": "execute_result"
    }
   ],
   "source": [
    "eda_df['tungro_virus']"
   ]
  },
  {
   "cell_type": "code",
   "execution_count": null,
   "metadata": {
    "collapsed": true
   },
   "outputs": [],
   "source": []
  }
 ],
 "metadata": {
  "kernelspec": {
   "display_name": "Python 2",
   "language": "python",
   "name": "python2"
  },
  "language_info": {
   "codemirror_mode": {
    "name": "ipython",
    "version": 2
   },
   "file_extension": ".py",
   "mimetype": "text/x-python",
   "name": "python",
   "nbconvert_exporter": "python",
   "pygments_lexer": "ipython2",
   "version": "2.7.10"
  }
 },
 "nbformat": 4,
 "nbformat_minor": 0
}
